{
 "cells": [
  {
   "cell_type": "code",
   "execution_count": 3,
   "metadata": {
    "collapsed": true
   },
   "outputs": [],
   "source": [
    "from sklearn.svm import SVC\n",
    "import pandas\n",
    "import numpy as np"
   ]
  },
  {
   "cell_type": "code",
   "execution_count": 4,
   "metadata": {
    "collapsed": false
   },
   "outputs": [
    {
     "name": "stdout",
     "output_type": "stream",
     "text": [
      "[0.0, 1.0, 0.0, 0.0, 0.0, 1.0, 0.0, 1.0, 0.0, 1.0]\n",
      "      1     2\n",
      "0  0.70  0.29\n",
      "1  0.23  0.55\n",
      "2  0.72  0.42\n",
      "3  0.98  0.68\n",
      "4  0.48  0.39\n",
      "5  0.34  0.73\n",
      "6  0.44  0.06\n",
      "7  0.40  0.74\n",
      "8  0.18  0.18\n",
      "9  0.53  0.53\n",
      "[[0.69999999999999996, 0.28999999999999998], [0.23000000000000001, 0.55000000000000004], [0.71999999999999997, 0.41999999999999998], [0.97999999999999998, 0.68000000000000005], [0.47999999999999998, 0.39000000000000001], [0.34000000000000002, 0.72999999999999998], [0.44, 0.059999999999999998], [0.40000000000000002, 0.73999999999999999], [0.17999999999999999, 0.17999999999999999], [0.53000000000000003, 0.53000000000000003]]\n"
     ]
    }
   ],
   "source": [
    "data = pandas.read_csv('svm-data.csv', header=None)\n",
    "target = data[0].tolist()\n",
    "del data[0]\n",
    "par = [x[1].tolist() for x in data.iterrows()]\n",
    "print(target)\n",
    "print(data)\n",
    "print(par)\n",
    "\n",
    "clf = SVC(C = 100000, kernel='linear', random_state=241)\n",
    "n = clf.fit(par, target)\n"
   ]
  },
  {
   "cell_type": "code",
   "execution_count": 5,
   "metadata": {
    "collapsed": false
   },
   "outputs": [
    {
     "name": "stdout",
     "output_type": "stream",
     "text": [
      "[3 4 9]\n"
     ]
    }
   ],
   "source": [
    "print(n.support_)\n"
   ]
  },
  {
   "cell_type": "code",
   "execution_count": 6,
   "metadata": {
    "collapsed": false
   },
   "outputs": [
    {
     "name": "stdout",
     "output_type": "stream",
     "text": [
      "[[ 0.98  0.68]\n",
      " [ 0.48  0.39]\n",
      " [ 0.53  0.53]]\n"
     ]
    }
   ],
   "source": [
    "print(n.support_vectors_)"
   ]
  }
 ],
 "metadata": {
  "anaconda-cloud": {},
  "kernelspec": {
   "display_name": "Python [Root]",
   "language": "python",
   "name": "Python [Root]"
  },
  "language_info": {
   "codemirror_mode": {
    "name": "ipython",
    "version": 3
   },
   "file_extension": ".py",
   "mimetype": "text/x-python",
   "name": "python",
   "nbconvert_exporter": "python",
   "pygments_lexer": "ipython3",
   "version": "3.5.2"
  }
 },
 "nbformat": 4,
 "nbformat_minor": 0
}
