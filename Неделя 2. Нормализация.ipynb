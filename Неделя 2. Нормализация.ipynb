{
 "cells": [
  {
   "cell_type": "code",
   "execution_count": 105,
   "metadata": {
    "collapsed": true
   },
   "outputs": [],
   "source": [
    "import numpy as np\n",
    "from sklearn.linear_model import Perceptron\n",
    "from sklearn.metrics import accuracy_score\n",
    "from sklearn.preprocessing import StandardScaler\n",
    "import pandas"
   ]
  },
  {
   "cell_type": "code",
   "execution_count": 111,
   "metadata": {
    "collapsed": false
   },
   "outputs": [
    {
     "data": {
      "text/plain": [
       "numpy.float64"
      ]
     },
     "execution_count": 111,
     "metadata": {},
     "output_type": "execute_result"
    }
   ],
   "source": [
    "train = pandas.read_csv('perceptron-train.csv', index_col='col')\n",
    "test = pandas.read_csv('perceptron-test.csv', index_col='col')\n",
    "train_target = train['target'].tolist()\n",
    "del train['target']\n",
    "test_target = test['target'].tolist()\n",
    "del test['target']\n",
    "\n",
    "train_par = [x[1] for x in train.iterrows()]\n",
    "test_par = [x[1] for x in test.iterrows()]\n",
    "\n",
    "# Нестандартизированные данные\n",
    "\n",
    "clf = Perceptron(random_state=241)\n",
    "clf.fit(train_par, train_target)\n",
    "predictions = clf.predict(test_par)\n",
    "nonnorm = accuracy_score(test_target, predictions)"
   ]
  },
  {
   "cell_type": "code",
   "execution_count": 112,
   "metadata": {
    "collapsed": false
   },
   "outputs": [
    {
     "name": "stdout",
     "output_type": "stream",
     "text": [
      "0.19\n"
     ]
    }
   ],
   "source": [
    "# Стандартизированные данные\n",
    "scaler = StandardScaler()\n",
    "train_par_norm = scaler.fit_transform(train_par)\n",
    "test_par_norm = scaler.transform(test_par)\n",
    "clf.fit(train_par_norm, train_target)\n",
    "predictions = clf.predict(test_par_norm)\n",
    "norm = accuracy_score(test_target, predictions)\n",
    "print(norm-nonnorm)"
   ]
  }
 ],
 "metadata": {
  "anaconda-cloud": {},
  "kernelspec": {
   "display_name": "Python [Root]",
   "language": "python",
   "name": "Python [Root]"
  },
  "language_info": {
   "codemirror_mode": {
    "name": "ipython",
    "version": 3
   },
   "file_extension": ".py",
   "mimetype": "text/x-python",
   "name": "python",
   "nbconvert_exporter": "python",
   "pygments_lexer": "ipython3",
   "version": "3.5.2"
  }
 },
 "nbformat": 4,
 "nbformat_minor": 0
}
