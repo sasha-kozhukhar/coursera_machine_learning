{
 "cells": [
  {
   "cell_type": "code",
   "execution_count": 1,
   "metadata": {
    "collapsed": true
   },
   "outputs": [],
   "source": [
    "import time, numpy, pandas, datetime"
   ]
  },
  {
   "cell_type": "code",
   "execution_count": 5,
   "metadata": {
    "collapsed": false
   },
   "outputs": [],
   "source": [
    "df = pandas.read_csv('./features.csv', header = 0, index_col='match_id')\n",
    "y = df[['radiant_win']].values\n",
    "df = df.ix[:,:-6]\n",
    "df.head()"
   ]
  },
  {
   "cell_type": "code",
   "execution_count": null,
   "metadata": {
    "collapsed": true
   },
   "outputs": [],
   "source": [
    "count_na = df.isnull().sum()\n",
    "count_na[count_na>0]"
   ]
  },
  {
   "cell_type": "code",
   "execution_count": null,
   "metadata": {
    "collapsed": true
   },
   "outputs": [],
   "source": [
    "df = df.fillna(0)"
   ]
  },
  {
   "cell_type": "code",
   "execution_count": null,
   "metadata": {
    "collapsed": true
   },
   "outputs": [],
   "source": [
    "from sklearn.metrics import roc_auc_score\n",
    "from sklearn.model_selection import KFold, cross_val_score\n",
    "from sklearn.ensemble import GradientBoostingClassifier"
   ]
  },
  {
   "cell_type": "code",
   "execution_count": null,
   "metadata": {
    "collapsed": true
   },
   "outputs": [],
   "source": [
    "cv = KFold(n_splits=5, shuffle=True, random_state=117)\n",
    "scores = []\n",
    "numbers = [5, 10, 20, 30, 40, 200, 300]\n",
    "for n in numbers:\n",
    "    start_time = datetime.datetime.now()\n",
    "    model = GradientBoostingClassifier(n_estimators=n, random_state=117)\n",
    "    model_roc = cross_val_score(model, df, y, cv=cv, scoring='roc_auc')\n",
    "    print n, 'trees. Time elapsed:', datetime.datetime.now() - start_time\n",
    "    print model_roc\n",
    "    scores.append( (n, numpy.mean(model_roc))  )\n",
    "print scores"
   ]
  },
  {
   "cell_type": "code",
   "execution_count": null,
   "metadata": {
    "collapsed": true
   },
   "outputs": [],
   "source": [
    "del scores\n",
    "del model_roc"
   ]
  },
  {
   "cell_type": "code",
   "execution_count": null,
   "metadata": {
    "collapsed": true
   },
   "outputs": [],
   "source": [
    "from sklearn.metrics import roc_auc_score\n",
    "from sklearn.preprocessing import StandardScaler\n",
    "from sklearn.linear_model import LogisticRegression\n",
    "from sklearn.model_selection import KFold, cross_val_score"
   ]
  },
  {
   "cell_type": "code",
   "execution_count": null,
   "metadata": {
    "collapsed": true
   },
   "outputs": [],
   "source": [
    "scaler = StandardScaler()\n",
    "df_s = scaler.fit_transform(df)\n",
    "\n",
    "cv = KFold(n_splits=5, shuffle=True, random_state=117)\n",
    "\n",
    "powers = range(-5, 6)\n",
    "coefs = [10.0 ** i for i in powers]\n",
    "scores = []\n",
    "for C in coefs:\n",
    "    start_time = datetime.datetime.now()\n",
    "    model = LogisticRegression(C=C, random_state=117)\n",
    "    model_roc = cross_val_score(model, df_s, y, cv=cv, scoring='roc_auc')\n",
    "    print 'C = ', C, '. Time elapsed:', datetime.datetime.now() - start_time\n",
    "    print model_roc\n",
    "    scores.append( (C, numpy.mean(model_roc)) )\n",
    "print scores"
   ]
  },
  {
   "cell_type": "code",
   "execution_count": null,
   "metadata": {
    "collapsed": true
   },
   "outputs": [],
   "source": [
    "del df_s\n",
    "del scores\n",
    "del model_roc"
   ]
  },
  {
   "cell_type": "code",
   "execution_count": null,
   "metadata": {
    "collapsed": true
   },
   "outputs": [],
   "source": [
    "df_c = df.copy()\n",
    "del df_c['lobby_type']\n",
    "for n in xrange(1, 6):\n",
    "        del df_c['r{}_hero'.format(n)]\n",
    "        del df_c['d{}_hero'.format(n)]"
   ]
  },
  {
   "cell_type": "code",
   "execution_count": null,
   "metadata": {
    "collapsed": true
   },
   "outputs": [],
   "source": [
    "scaler = StandardScaler()\n",
    "arr_c = scaler.fit_transform(df_c)\n",
    "\n",
    "cv = KFold(n_splits=5, shuffle=True, random_state=117)\n",
    "\n",
    "powers = range(-5, 6)\n",
    "coefs = [10.0 ** i for i in powers]\n",
    "scores2 = []\n",
    "for C in coefs:\n",
    "    start_time = datetime.datetime.now()\n",
    "    model = LogisticRegression(C=C, random_state=117)\n",
    "    model_roc = cross_val_score(model, arr_c, y, cv=cv, scoring='roc_auc')\n",
    "    print 'C = ', C, '. Time elapsed:', datetime.datetime.now() - start_time\n",
    "    print model_roc\n",
    "    scores2.append( (C, numpy.mean(model_roc)) )\n",
    "print scores2"
   ]
  },
  {
   "cell_type": "code",
   "execution_count": null,
   "metadata": {
    "collapsed": true
   },
   "outputs": [],
   "source": [
    "heroes = df[['r1_hero', 'r2_hero', 'r3_hero','r4_hero','r5_hero','d1_hero','d2_hero','d3_hero','d4_hero','d5_hero']]\n",
    "N = max(numpy.unique(heroes))\n",
    "print N"
   ]
  },
  {
   "cell_type": "code",
   "execution_count": null,
   "metadata": {
    "collapsed": true
   },
   "outputs": [],
   "source": [
    "X_pick = numpy.zeros((df.shape[0], N))\n",
    "for i, match_id in enumerate(df.index):\n",
    "    for p in xrange(5):\n",
    "        X_pick[i, df.ix[match_id, 'r%d_hero' % (p+1)]-1] = 1\n",
    "        X_pick[i, df.ix[match_id, 'd%d_hero' % (p+1)]-1] = -1\n",
    "df_binary = pandas.DataFrame(X_pick, index=df.index)\n",
    "df_binary.head()"
   ]
  },
  {
   "cell_type": "code",
   "execution_count": null,
   "metadata": {
    "collapsed": true
   },
   "outputs": [],
   "source": [
    "df_tot = pandas.merge(df_c, df_binary, left_index = True, right_index = True)\n",
    "del df\n",
    "del df_c\n",
    "del df_binary"
   ]
  },
  {
   "cell_type": "code",
   "execution_count": null,
   "metadata": {
    "collapsed": true
   },
   "outputs": [],
   "source": [
    "scaler = StandardScaler()\n",
    "arr_tot = scaler.fit_transform(df_tot)"
   ]
  },
  {
   "cell_type": "code",
   "execution_count": null,
   "metadata": {
    "collapsed": true
   },
   "outputs": [],
   "source": [
    "cv = KFold(n_splits=5, shuffle=True, random_state=117)\n",
    "\n",
    "powers = range(-5, 6)\n",
    "coefs = [10.0 ** i for i in powers]\n",
    "scores3 = []\n",
    "for C in coefs:\n",
    "    start_time = datetime.datetime.now()\n",
    "    model = LogisticRegression(C=C, random_state=117)\n",
    "    model_roc = cross_val_score(model, arr_tot, y, cv=cv, scoring='roc_auc')\n",
    "    print 'C = ', C,'. Time elapsed:', datetime.datetime.now() - start_time\n",
    "    print model_roc\n",
    "    scores3.append( (C, numpy.mean(model_roc)) )\n",
    "print scores3"
   ]
  },
  {
   "cell_type": "code",
   "execution_count": null,
   "metadata": {
    "collapsed": true
   },
   "outputs": [],
   "source": [
    "del scores3\n",
    "del model_roc"
   ]
  },
  {
   "cell_type": "code",
   "execution_count": null,
   "metadata": {
    "collapsed": true
   },
   "outputs": [],
   "source": [
    "df_test = pandas.read_csv('./features_test.csv', header = 0, index_col='match_id')\n",
    "df_test = df_test.fillna(0)\n",
    "\n",
    "X_pick = numpy.zeros((df_test.shape[0], 112))\n",
    "for i, match_id in enumerate(df_test.index):\n",
    "    for p in xrange(5):\n",
    "        X_pick[i, df_test.ix[match_id, 'r%d_hero' % (p+1)]-1] = 1\n",
    "        X_pick[i, df_test.ix[match_id, 'd%d_hero' % (p+1)]-1] = -1\n",
    "df_test_binary = pandas.DataFrame(X_pick, index=df_test.index)\n",
    "\n",
    "del df_test['lobby_type']\n",
    "for n in xrange(1, 6):\n",
    "        del df_test['r{}_hero'.format(n)]\n",
    "        del df_test['d{}_hero'.format(n)]\n",
    "df_test_tot = pandas.merge(df_test, df_test_binary, left_index = True, right_index = True)"
   ]
  },
  {
   "cell_type": "code",
   "execution_count": null,
   "metadata": {
    "collapsed": true
   },
   "outputs": [],
   "source": [
    "scaler = StandardScaler()\n",
    "arr_tot = scaler.fit_transform(df_tot)\n",
    "arr_test_tot = scaler.transform(df_test_tot)\n",
    "model = LogisticRegression(C=0.01, random_state=117)\n",
    "model.fit(arr_tot, y)\n",
    "del arr_tot\n",
    "a = model.predict_proba(arr_test_tot)[:,1]"
   ]
  },
  {
   "cell_type": "code",
   "execution_count": null,
   "metadata": {
    "collapsed": true
   },
   "outputs": [],
   "source": [
    "print a.max(), a.min()"
   ]
  }
 ],
 "metadata": {
  "anaconda-cloud": {},
  "kernelspec": {
   "display_name": "Python 3",
   "language": "python",
   "name": "python3"
  },
  "language_info": {
   "codemirror_mode": {
    "name": "ipython",
    "version": 3
   },
   "file_extension": ".py",
   "mimetype": "text/x-python",
   "name": "python",
   "nbconvert_exporter": "python",
   "pygments_lexer": "ipython3",
   "version": "3.5.2"
  }
 },
 "nbformat": 4,
 "nbformat_minor": 1
}
