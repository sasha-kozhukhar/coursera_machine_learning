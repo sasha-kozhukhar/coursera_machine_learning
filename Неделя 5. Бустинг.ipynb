{
 "cells": [
  {
   "cell_type": "code",
   "execution_count": 1,
   "metadata": {
    "collapsed": true
   },
   "outputs": [],
   "source": [
    "import pandas as pn\n",
    "import numpy as np"
   ]
  },
  {
   "cell_type": "code",
   "execution_count": 5,
   "metadata": {
    "collapsed": false
   },
   "outputs": [],
   "source": [
    "data = pn.read_csv('gbm-data.csv')"
   ]
  },
  {
   "cell_type": "code",
   "execution_count": 6,
   "metadata": {
    "collapsed": false
   },
   "outputs": [],
   "source": [
    "data.head()\n",
    "target = data['Activity'].tolist()\n",
    "del data['Activity']"
   ]
  },
  {
   "cell_type": "code",
   "execution_count": 7,
   "metadata": {
    "collapsed": false
   },
   "outputs": [
    {
     "data": {
      "text/html": [
       "<div>\n",
       "<table border=\"1\" class=\"dataframe\">\n",
       "  <thead>\n",
       "    <tr style=\"text-align: right;\">\n",
       "      <th></th>\n",
       "      <th>D1</th>\n",
       "      <th>D2</th>\n",
       "      <th>D3</th>\n",
       "      <th>D4</th>\n",
       "      <th>D5</th>\n",
       "      <th>D6</th>\n",
       "      <th>D7</th>\n",
       "      <th>D8</th>\n",
       "      <th>D9</th>\n",
       "      <th>D10</th>\n",
       "      <th>...</th>\n",
       "      <th>D1767</th>\n",
       "      <th>D1768</th>\n",
       "      <th>D1769</th>\n",
       "      <th>D1770</th>\n",
       "      <th>D1771</th>\n",
       "      <th>D1772</th>\n",
       "      <th>D1773</th>\n",
       "      <th>D1774</th>\n",
       "      <th>D1775</th>\n",
       "      <th>D1776</th>\n",
       "    </tr>\n",
       "  </thead>\n",
       "  <tbody>\n",
       "    <tr>\n",
       "      <th>0</th>\n",
       "      <td>0.000000</td>\n",
       "      <td>0.497009</td>\n",
       "      <td>0.10</td>\n",
       "      <td>0.0</td>\n",
       "      <td>0.132956</td>\n",
       "      <td>0.678031</td>\n",
       "      <td>0.273166</td>\n",
       "      <td>0.585445</td>\n",
       "      <td>0.743663</td>\n",
       "      <td>0.243144</td>\n",
       "      <td>...</td>\n",
       "      <td>0</td>\n",
       "      <td>0</td>\n",
       "      <td>0</td>\n",
       "      <td>0</td>\n",
       "      <td>0</td>\n",
       "      <td>0</td>\n",
       "      <td>0</td>\n",
       "      <td>0</td>\n",
       "      <td>0</td>\n",
       "      <td>0</td>\n",
       "    </tr>\n",
       "    <tr>\n",
       "      <th>1</th>\n",
       "      <td>0.366667</td>\n",
       "      <td>0.606291</td>\n",
       "      <td>0.05</td>\n",
       "      <td>0.0</td>\n",
       "      <td>0.111209</td>\n",
       "      <td>0.803455</td>\n",
       "      <td>0.106105</td>\n",
       "      <td>0.411754</td>\n",
       "      <td>0.836582</td>\n",
       "      <td>0.106480</td>\n",
       "      <td>...</td>\n",
       "      <td>1</td>\n",
       "      <td>1</td>\n",
       "      <td>1</td>\n",
       "      <td>1</td>\n",
       "      <td>0</td>\n",
       "      <td>1</td>\n",
       "      <td>0</td>\n",
       "      <td>0</td>\n",
       "      <td>1</td>\n",
       "      <td>0</td>\n",
       "    </tr>\n",
       "    <tr>\n",
       "      <th>2</th>\n",
       "      <td>0.033300</td>\n",
       "      <td>0.480124</td>\n",
       "      <td>0.00</td>\n",
       "      <td>0.0</td>\n",
       "      <td>0.209791</td>\n",
       "      <td>0.610350</td>\n",
       "      <td>0.356453</td>\n",
       "      <td>0.517720</td>\n",
       "      <td>0.679051</td>\n",
       "      <td>0.352308</td>\n",
       "      <td>...</td>\n",
       "      <td>0</td>\n",
       "      <td>0</td>\n",
       "      <td>0</td>\n",
       "      <td>0</td>\n",
       "      <td>0</td>\n",
       "      <td>0</td>\n",
       "      <td>0</td>\n",
       "      <td>0</td>\n",
       "      <td>0</td>\n",
       "      <td>0</td>\n",
       "    </tr>\n",
       "    <tr>\n",
       "      <th>3</th>\n",
       "      <td>0.000000</td>\n",
       "      <td>0.538825</td>\n",
       "      <td>0.00</td>\n",
       "      <td>0.5</td>\n",
       "      <td>0.196344</td>\n",
       "      <td>0.724230</td>\n",
       "      <td>0.235606</td>\n",
       "      <td>0.288764</td>\n",
       "      <td>0.805110</td>\n",
       "      <td>0.208989</td>\n",
       "      <td>...</td>\n",
       "      <td>0</td>\n",
       "      <td>0</td>\n",
       "      <td>0</td>\n",
       "      <td>0</td>\n",
       "      <td>0</td>\n",
       "      <td>0</td>\n",
       "      <td>0</td>\n",
       "      <td>0</td>\n",
       "      <td>0</td>\n",
       "      <td>0</td>\n",
       "    </tr>\n",
       "    <tr>\n",
       "      <th>4</th>\n",
       "      <td>0.100000</td>\n",
       "      <td>0.517794</td>\n",
       "      <td>0.00</td>\n",
       "      <td>0.0</td>\n",
       "      <td>0.494734</td>\n",
       "      <td>0.781422</td>\n",
       "      <td>0.154361</td>\n",
       "      <td>0.303809</td>\n",
       "      <td>0.812646</td>\n",
       "      <td>0.125177</td>\n",
       "      <td>...</td>\n",
       "      <td>0</td>\n",
       "      <td>0</td>\n",
       "      <td>0</td>\n",
       "      <td>0</td>\n",
       "      <td>0</td>\n",
       "      <td>0</td>\n",
       "      <td>0</td>\n",
       "      <td>0</td>\n",
       "      <td>0</td>\n",
       "      <td>0</td>\n",
       "    </tr>\n",
       "  </tbody>\n",
       "</table>\n",
       "<p>5 rows × 1776 columns</p>\n",
       "</div>"
      ],
      "text/plain": [
       "         D1        D2    D3   D4        D5        D6        D7        D8  \\\n",
       "0  0.000000  0.497009  0.10  0.0  0.132956  0.678031  0.273166  0.585445   \n",
       "1  0.366667  0.606291  0.05  0.0  0.111209  0.803455  0.106105  0.411754   \n",
       "2  0.033300  0.480124  0.00  0.0  0.209791  0.610350  0.356453  0.517720   \n",
       "3  0.000000  0.538825  0.00  0.5  0.196344  0.724230  0.235606  0.288764   \n",
       "4  0.100000  0.517794  0.00  0.0  0.494734  0.781422  0.154361  0.303809   \n",
       "\n",
       "         D9       D10  ...    D1767  D1768  D1769  D1770  D1771  D1772  D1773  \\\n",
       "0  0.743663  0.243144  ...        0      0      0      0      0      0      0   \n",
       "1  0.836582  0.106480  ...        1      1      1      1      0      1      0   \n",
       "2  0.679051  0.352308  ...        0      0      0      0      0      0      0   \n",
       "3  0.805110  0.208989  ...        0      0      0      0      0      0      0   \n",
       "4  0.812646  0.125177  ...        0      0      0      0      0      0      0   \n",
       "\n",
       "   D1774  D1775  D1776  \n",
       "0      0      0      0  \n",
       "1      0      1      0  \n",
       "2      0      0      0  \n",
       "3      0      0      0  \n",
       "4      0      0      0  \n",
       "\n",
       "[5 rows x 1776 columns]"
      ]
     },
     "execution_count": 7,
     "metadata": {},
     "output_type": "execute_result"
    }
   ],
   "source": [
    "data.head()"
   ]
  },
  {
   "cell_type": "code",
   "execution_count": 8,
   "metadata": {
    "collapsed": true
   },
   "outputs": [],
   "source": [
    "from sklearn.ensemble import GradientBoostingClassifier, GradientBoostingRegressor"
   ]
  },
  {
   "cell_type": "code",
   "execution_count": 9,
   "metadata": {
    "collapsed": false
   },
   "outputs": [],
   "source": [
    "from sklearn.cross_validation import train_test_split"
   ]
  },
  {
   "cell_type": "code",
   "execution_count": 10,
   "metadata": {
    "collapsed": true
   },
   "outputs": [],
   "source": [
    "from sklearn.metrics import log_loss\n",
    "# pred = clf.predict_proba(X_test)"
   ]
  },
  {
   "cell_type": "code",
   "execution_count": 11,
   "metadata": {
    "collapsed": false
   },
   "outputs": [],
   "source": [
    "data_nump = data.values"
   ]
  },
  {
   "cell_type": "code",
   "execution_count": 12,
   "metadata": {
    "collapsed": false
   },
   "outputs": [],
   "source": [
    "data_nump_train, data_nump_test, target_train, target_test = train_test_split(data_nump, target, test_size=0.8, random_state=241)"
   ]
  },
  {
   "cell_type": "code",
   "execution_count": 13,
   "metadata": {
    "collapsed": false
   },
   "outputs": [],
   "source": [
    "clf1 = GradientBoostingClassifier(n_estimators=250, verbose=True, random_state=241, learning_rate=1)\n",
    "clf2 = GradientBoostingClassifier(n_estimators=250, verbose=True, random_state=241, learning_rate=0.5)\n",
    "clf3 = GradientBoostingClassifier(n_estimators=250, verbose=True, random_state=241, learning_rate=0.3)\n",
    "clf4 = GradientBoostingClassifier(n_estimators=250, verbose=True, random_state=241, learning_rate=0.2)\n",
    "clf5 = GradientBoostingClassifier(n_estimators=250, verbose=True, random_state=241, learning_rate=0.1)"
   ]
  },
  {
   "cell_type": "code",
   "execution_count": 41,
   "metadata": {
    "collapsed": false
   },
   "outputs": [
    {
     "name": "stdout",
     "output_type": "stream",
     "text": [
      "      Iter       Train Loss   Remaining Time \n",
      "         1           1.0190           28.53s\n",
      "         2           0.9192           29.57s\n",
      "         3           0.8272           30.32s\n",
      "         4           0.7834           28.40s\n",
      "         5           0.7109           27.82s\n",
      "         6           0.6368           29.60s\n",
      "         7           0.5797           29.34s\n",
      "         8           0.5610           28.29s\n",
      "         9           0.5185           27.72s\n",
      "        10           0.4984           27.03s\n",
      "        20           0.1999           25.34s\n",
      "        30           0.1313           23.71s\n",
      "        40           0.0790           22.32s\n",
      "        50           0.0511           21.06s\n",
      "        60           0.0352           19.83s\n",
      "        70           0.0245           18.68s\n",
      "        80           0.0162           17.66s\n",
      "        90           0.0114           16.55s\n",
      "       100           0.0077           15.39s\n",
      "       200           0.0004            4.59s\n"
     ]
    }
   ],
   "source": [
    "n1 = clf1.fit(data_nump_train, target_train)"
   ]
  },
  {
   "cell_type": "code",
   "execution_count": 42,
   "metadata": {
    "collapsed": false
   },
   "outputs": [
    {
     "name": "stdout",
     "output_type": "stream",
     "text": [
      "      Iter       Train Loss   Remaining Time \n",
      "         1           1.1255           25.92s\n",
      "         2           1.0035           25.94s\n",
      "         3           0.9386           26.12s\n",
      "         4           0.8844           27.27s\n",
      "         5           0.8381           28.17s\n",
      "         6           0.7995           27.02s\n",
      "         7           0.7559           26.30s\n",
      "         8           0.7205           26.00s\n",
      "         9           0.6958           25.49s\n",
      "        10           0.6725           25.05s\n",
      "        20           0.4672           24.97s\n",
      "        30           0.3179           23.54s\n",
      "        40           0.2274           21.88s\n",
      "        50           0.1774           20.85s\n",
      "        60           0.1394           20.43s\n",
      "        70           0.1050           19.12s\n",
      "        80           0.0805           17.82s\n",
      "        90           0.0650           16.55s\n",
      "       100           0.0511           15.62s\n",
      "       200           0.0058            5.02s\n"
     ]
    }
   ],
   "source": [
    "n2 = clf2.fit(data_nump_train, target_train)"
   ]
  },
  {
   "cell_type": "code",
   "execution_count": 43,
   "metadata": {
    "collapsed": false
   },
   "outputs": [
    {
     "name": "stdout",
     "output_type": "stream",
     "text": [
      "      Iter       Train Loss   Remaining Time \n",
      "         1           1.2095           26.17s\n",
      "         2           1.1006           28.85s\n",
      "         3           1.0240           28.22s\n",
      "         4           0.9729           27.36s\n",
      "         5           0.9387           26.60s\n",
      "         6           0.8948           26.35s\n",
      "         7           0.8621           25.80s\n",
      "         8           0.8360           25.57s\n",
      "         9           0.8171           25.20s\n",
      "        10           0.7883           24.85s\n",
      "        20           0.6164           24.17s\n",
      "        30           0.4933           22.46s\n",
      "        40           0.4248           21.22s\n",
      "        50           0.3345           19.99s\n",
      "        60           0.2760           20.22s\n",
      "        70           0.2263           19.48s\n",
      "        80           0.1971           18.08s\n",
      "        90           0.1693           17.07s\n",
      "       100           0.1388           15.95s\n",
      "       200           0.0294            5.25s\n"
     ]
    }
   ],
   "source": [
    "n3 = clf3.fit(data_nump_train, target_train)"
   ]
  },
  {
   "cell_type": "code",
   "execution_count": 44,
   "metadata": {
    "collapsed": false
   },
   "outputs": [
    {
     "name": "stdout",
     "output_type": "stream",
     "text": [
      "      Iter       Train Loss   Remaining Time \n",
      "         1           1.2613           30.28s\n",
      "         2           1.1715           29.29s\n",
      "         3           1.1009           28.23s\n",
      "         4           1.0529           27.76s\n",
      "         5           1.0130           28.42s\n",
      "         6           0.9740           28.67s\n",
      "         7           0.9475           27.60s\n",
      "         8           0.9197           27.25s\n",
      "         9           0.8979           26.63s\n",
      "        10           0.8730           26.25s\n",
      "        20           0.7207           23.26s\n",
      "        30           0.6055           22.66s\n",
      "        40           0.5244           21.41s\n",
      "        50           0.4501           20.28s\n",
      "        60           0.3908           19.74s\n",
      "        70           0.3372           18.73s\n",
      "        80           0.3009           17.57s\n",
      "        90           0.2603           16.45s\n",
      "       100           0.2327           15.33s\n",
      "       200           0.0835            5.14s\n"
     ]
    }
   ],
   "source": [
    "n4 = clf4.fit(data_nump_train, target_train)"
   ]
  },
  {
   "cell_type": "code",
   "execution_count": 45,
   "metadata": {
    "collapsed": false
   },
   "outputs": [
    {
     "name": "stdout",
     "output_type": "stream",
     "text": [
      "      Iter       Train Loss   Remaining Time \n",
      "         1           1.3199           30.04s\n",
      "         2           1.2645           29.35s\n",
      "         3           1.2170           28.47s\n",
      "         4           1.1775           28.41s\n",
      "         5           1.1404           27.93s\n",
      "         6           1.1106           27.58s\n",
      "         7           1.0844           27.53s\n",
      "         8           1.0617           27.54s\n",
      "         9           1.0411           27.94s\n",
      "        10           1.0223           27.80s\n",
      "        20           0.8864           26.49s\n",
      "        30           0.7844           25.31s\n",
      "        40           0.7176           23.72s\n",
      "        50           0.6590           22.29s\n",
      "        60           0.6120           20.88s\n",
      "        70           0.5599           19.69s\n",
      "        80           0.5242           18.37s\n",
      "        90           0.4829           17.36s\n",
      "       100           0.4473           16.10s\n",
      "       200           0.2379            5.04s\n"
     ]
    }
   ],
   "source": [
    "n5 = clf5.fit(data_nump_train, target_train)"
   ]
  },
  {
   "cell_type": "code",
   "execution_count": 59,
   "metadata": {
    "collapsed": false
   },
   "outputs": [],
   "source": [
    "n1list = list(n1.staged_decision_function(data_nump_train))\n",
    "n2list = list(n2.staged_decision_function(data_nump_train))\n",
    "n3list = list(n3.staged_decision_function(data_nump_train))\n",
    "n4list = list(n4.staged_decision_function(data_nump_train))\n",
    "n5list = list(n5.staged_decision_function(data_nump_train))"
   ]
  },
  {
   "cell_type": "code",
   "execution_count": 93,
   "metadata": {
    "collapsed": false
   },
   "outputs": [
    {
     "data": {
      "text/plain": [
       "list"
      ]
     },
     "execution_count": 93,
     "metadata": {},
     "output_type": "execute_result"
    }
   ],
   "source": [
    "type(n1list)"
   ]
  },
  {
   "cell_type": "code",
   "execution_count": 94,
   "metadata": {
    "collapsed": false
   },
   "outputs": [
    {
     "data": {
      "text/plain": [
       "250"
      ]
     },
     "execution_count": 94,
     "metadata": {},
     "output_type": "execute_result"
    }
   ],
   "source": [
    "len(n1list)"
   ]
  },
  {
   "cell_type": "code",
   "execution_count": 95,
   "metadata": {
    "collapsed": false
   },
   "outputs": [
    {
     "data": {
      "text/plain": [
       "numpy.ndarray"
      ]
     },
     "execution_count": 95,
     "metadata": {},
     "output_type": "execute_result"
    }
   ],
   "source": [
    "type(n1list[0])"
   ]
  },
  {
   "cell_type": "code",
   "execution_count": 96,
   "metadata": {
    "collapsed": false
   },
   "outputs": [
    {
     "data": {
      "text/plain": [
       "array([[-1.32132869],\n",
       "       [-1.32132869],\n",
       "       [ 1.17257291],\n",
       "       [ 1.17257291],\n",
       "       [ 1.17257291],\n",
       "       [-1.32132869],\n",
       "       [ 1.0008275 ],\n",
       "       [ 1.17257291],\n",
       "       [-1.32132869],\n",
       "       [ 0.60366036]])"
      ]
     },
     "execution_count": 96,
     "metadata": {},
     "output_type": "execute_result"
    }
   ],
   "source": [
    "n1list[0][:10]"
   ]
  },
  {
   "cell_type": "code",
   "execution_count": 98,
   "metadata": {
    "collapsed": false
   },
   "outputs": [
    {
     "data": {
      "text/plain": [
       "-1.3213286914303302"
      ]
     },
     "execution_count": 98,
     "metadata": {},
     "output_type": "execute_result"
    }
   ],
   "source": [
    "n1list[0][0][0]"
   ]
  },
  {
   "cell_type": "code",
   "execution_count": 60,
   "metadata": {
    "collapsed": false
   },
   "outputs": [],
   "source": [
    "n1list_test = list(n1.staged_decision_function(data_nump_test))\n",
    "n2list_test = list(n2.staged_decision_function(data_nump_test))\n",
    "n3list_test = list(n3.staged_decision_function(data_nump_test))\n",
    "n4list_test = list(n4.staged_decision_function(data_nump_test))\n",
    "n5list_test = list(n5.staged_decision_function(data_nump_test))"
   ]
  },
  {
   "cell_type": "code",
   "execution_count": 68,
   "metadata": {
    "collapsed": false
   },
   "outputs": [
    {
     "data": {
      "text/plain": [
       "2.718281828459045"
      ]
     },
     "execution_count": 68,
     "metadata": {},
     "output_type": "execute_result"
    }
   ],
   "source": [
    "import math\n",
    "math.e"
   ]
  },
  {
   "cell_type": "code",
   "execution_count": 70,
   "metadata": {
    "collapsed": false
   },
   "outputs": [],
   "source": [
    "predict1 = [1/(1 + math.e**(-x)) for x in n1list]\n",
    "predict2 = [1/(1 + math.e**(-x)) for x in n2list]\n",
    "predict3 = [1/(1 + math.e**(-x)) for x in n3list]\n",
    "predict4 = [1/(1 + math.e**(-x)) for x in n4list]\n",
    "predict5 = [1/(1 + math.e**(-x)) for x in n5list]"
   ]
  },
  {
   "cell_type": "code",
   "execution_count": 71,
   "metadata": {
    "collapsed": true
   },
   "outputs": [],
   "source": [
    "predict1_test = [1/(1 + math.e**(-x)) for x in n1list_test]\n",
    "predict2_test = [1/(1 + math.e**(-x)) for x in n2list_test]\n",
    "predict3_test = [1/(1 + math.e**(-x)) for x in n3list_test]\n",
    "predict4_test = [1/(1 + math.e**(-x)) for x in n4list_test]\n",
    "predict5_test = [1/(1 + math.e**(-x)) for x in n5list_test]"
   ]
  },
  {
   "cell_type": "code",
   "execution_count": 108,
   "metadata": {
    "collapsed": true
   },
   "outputs": [],
   "source": [
    "def flatten_list(lst):\n",
    "    return [x[0] for x in lst]"
   ]
  },
  {
   "cell_type": "code",
   "execution_count": 120,
   "metadata": {
    "collapsed": false
   },
   "outputs": [],
   "source": [
    "# sklearn.metrics.log_loss(y_true, y_pred, eps=1e-15, normalize=True, sample_weight=None, labels=None)\n",
    "log_loss1 = [log_loss(target_train, flatten_list(x)) for x in predict1]\n",
    "log_loss2 = [log_loss(target_train, flatten_list(x)) for x in predict2]\n",
    "log_loss3 = [log_loss(target_train, flatten_list(x)) for x in predict3]\n",
    "log_loss4 = [log_loss(target_train, flatten_list(x)) for x in predict4]\n",
    "log_loss5 = [log_loss(target_train, flatten_list(x)) for x in predict5]"
   ]
  },
  {
   "cell_type": "code",
   "execution_count": 121,
   "metadata": {
    "collapsed": true
   },
   "outputs": [],
   "source": [
    "log_loss1_test = [log_loss(target_test, flatten_list(x)) for x in predict1_test]\n",
    "log_loss2_test = [log_loss(target_test, flatten_list(x)) for x in predict2_test]\n",
    "log_loss3_test = [log_loss(target_test, flatten_list(x)) for x in predict3_test]\n",
    "log_loss4_test = [log_loss(target_test, flatten_list(x)) for x in predict4_test]\n",
    "log_loss5_test = [log_loss(target_test, flatten_list(x)) for x in predict5_test]"
   ]
  },
  {
   "cell_type": "code",
   "execution_count": 89,
   "metadata": {
    "collapsed": true
   },
   "outputs": [],
   "source": [
    "import matplotlib.pyplot as plt"
   ]
  },
  {
   "cell_type": "code",
   "execution_count": 122,
   "metadata": {
    "collapsed": false
   },
   "outputs": [
    {
     "data": {
      "text/plain": [
       "<matplotlib.legend.Legend at 0x295424f92b0>"
      ]
     },
     "execution_count": 122,
     "metadata": {},
     "output_type": "execute_result"
    },
    {
     "data": {
      "image/png": "[encoded data removed]",
      "text/plain": [
       "<matplotlib.figure.Figure at 0x2953642c7b8>"
      ]
     },
     "metadata": {},
     "output_type": "display_data"
    }
   ],
   "source": [
    "%matplotlib inline\n",
    "plt.figure()\n",
    "plt.plot(log_loss1_test, 'r', linewidth=2)\n",
    "plt.plot(log_loss1, 'g', linewidth=2)\n",
    "plt.legend(['test', 'train'])"
   ]
  },
  {
   "cell_type": "code",
   "execution_count": 123,
   "metadata": {
    "collapsed": false
   },
   "outputs": [
    {
     "data": {
      "text/plain": [
       "<matplotlib.legend.Legend at 0x295425d5c88>"
      ]
     },
     "execution_count": 123,
     "metadata": {},
     "output_type": "execute_result"
    },
    {
     "data": {
      "image/png": "[encoded data removed]",
      "text/plain": [
       "<matplotlib.figure.Figure at 0x295424c3d30>"
      ]
     },
     "metadata": {},
     "output_type": "display_data"
    }
   ],
   "source": [
    "%matplotlib inline\n",
    "plt.figure()\n",
    "plt.plot(log_loss2_test, 'r', linewidth=2)\n",
    "plt.plot(log_loss2, 'g', linewidth=2)\n",
    "plt.legend(['test', 'train'])"
   ]
  },
  {
   "cell_type": "code",
   "execution_count": 124,
   "metadata": {
    "collapsed": false
   },
   "outputs": [
    {
     "data": {
      "text/plain": [
       "<matplotlib.legend.Legend at 0x29542a349e8>"
      ]
     },
     "execution_count": 124,
     "metadata": {},
     "output_type": "execute_result"
    },
    {
     "data": {
      "image/png": "[encoded data removed]",
      "text/plain": [
       "<matplotlib.figure.Figure at 0x295425fada0>"
      ]
     },
     "metadata": {},
     "output_type": "display_data"
    }
   ],
   "source": [
    "%matplotlib inline\n",
    "plt.figure()\n",
    "plt.plot(log_loss3_test, 'r', linewidth=2)\n",
    "plt.plot(log_loss3, 'g', linewidth=2)\n",
    "plt.legend(['test', 'train'])"
   ]
  },
  {
   "cell_type": "code",
   "execution_count": 132,
   "metadata": {
    "collapsed": false
   },
   "outputs": [
    {
     "data": {
      "text/plain": [
       "<matplotlib.legend.Legend at 0x2954294eda0>"
      ]
     },
     "execution_count": 132,
     "metadata": {},
     "output_type": "execute_result"
    },
    {
     "data": {
      "image/png": "[encoded data removed]",
      "text/plain": [
       "<matplotlib.figure.Figure at 0x29542906160>"
      ]
     },
     "metadata": {},
     "output_type": "display_data"
    }
   ],
   "source": [
    "%matplotlib inline\n",
    "plt.figure()\n",
    "plt.plot(log_loss4_test, 'r', linewidth=2)\n",
    "plt.plot(log_loss4, 'g', linewidth=2)\n",
    "plt.legend(['test', 'train'])"
   ]
  },
  {
   "cell_type": "code",
   "execution_count": 126,
   "metadata": {
    "collapsed": false,
    "scrolled": true
   },
   "outputs": [
    {
     "data": {
      "text/plain": [
       "<matplotlib.legend.Legend at 0x29542aa9ef0>"
      ]
     },
     "execution_count": 126,
     "metadata": {},
     "output_type": "execute_result"
    },
    {
     "data": {
      "image/png": "[encoded data removed]",
      "text/plain": [
       "<matplotlib.figure.Figure at 0x29536ac4320>"
      ]
     },
     "metadata": {},
     "output_type": "display_data"
    }
   ],
   "source": [
    "%matplotlib inline\n",
    "plt.figure()\n",
    "plt.plot(log_loss5_test, 'r', linewidth=2)\n",
    "plt.plot(log_loss5, 'g', linewidth=2)\n",
    "plt.legend(['test', 'train'])"
   ]
  },
  {
   "cell_type": "code",
   "execution_count": 161,
   "metadata": {
    "collapsed": false
   },
   "outputs": [
    {
     "data": {
      "text/plain": [
       "0.53000000000000003"
      ]
     },
     "execution_count": 161,
     "metadata": {},
     "output_type": "execute_result"
    }
   ],
   "source": [
    "round(min(log_loss4_test),2)"
   ]
  },
  {
   "cell_type": "code",
   "execution_count": 155,
   "metadata": {
    "collapsed": false
   },
   "outputs": [
    {
     "data": {
      "text/plain": [
       "36"
      ]
     },
     "execution_count": 155,
     "metadata": {},
     "output_type": "execute_result"
    }
   ],
   "source": [
    "log_loss4_test.index(min(log_loss4_test))"
   ]
  },
  {
   "cell_type": "code",
   "execution_count": 162,
   "metadata": {
    "collapsed": true
   },
   "outputs": [],
   "source": [
    "from sklearn.ensemble import RandomForestClassifier"
   ]
  },
  {
   "cell_type": "code",
   "execution_count": 169,
   "metadata": {
    "collapsed": false
   },
   "outputs": [],
   "source": [
    "n6 = RandomForestClassifier(n_estimators=37, random_state=241).fit(data_nump_train, target_train)"
   ]
  },
  {
   "cell_type": "code",
   "execution_count": 172,
   "metadata": {
    "collapsed": false
   },
   "outputs": [],
   "source": [
    "predict6 = n6.predict_proba(data_nump_test)"
   ]
  },
  {
   "cell_type": "code",
   "execution_count": 173,
   "metadata": {
    "collapsed": false
   },
   "outputs": [
    {
     "data": {
      "text/plain": [
       "0.54091190993698968"
      ]
     },
     "execution_count": 173,
     "metadata": {},
     "output_type": "execute_result"
    }
   ],
   "source": [
    "log_loss(target_test, predict6)"
   ]
  }
 ],
 "metadata": {
  "anaconda-cloud": {},
  "kernelspec": {
   "display_name": "Python 3",
   "language": "python",
   "name": "python3"
  },
  "language_info": {
   "codemirror_mode": {
    "name": "ipython",
    "version": 3
   },
   "file_extension": ".py",
   "mimetype": "text/x-python",
   "name": "python",
   "nbconvert_exporter": "python",
   "pygments_lexer": "ipython3",
   "version": "3.5.2"
  }
 },
 "nbformat": 4,
 "nbformat_minor": 0
}
