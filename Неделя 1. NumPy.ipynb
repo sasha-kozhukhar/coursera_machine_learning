{
 "cells": [
  {
   "cell_type": "code",
   "execution_count": 1,
   "metadata": {
    "collapsed": true
   },
   "outputs": [],
   "source": [
    "import numpy as np"
   ]
  },
  {
   "cell_type": "code",
   "execution_count": 3,
   "metadata": {
    "collapsed": false
   },
   "outputs": [
    {
     "name": "stdout",
     "output_type": "stream",
     "text": [
      "[[ -1.69782906  10.36762573  -5.18097129 ..., -20.75990193  -2.89887349\n",
      "   -0.06567641]\n",
      " [ 16.56703645 -22.05196155   4.65242108 ...,   3.1551943   11.63846849\n",
      "    6.91975556]\n",
      " [ -9.26213051   8.36855058 -12.35347205 ...,   1.45093041   8.40859917\n",
      "  -14.3226627 ]\n",
      " ..., \n",
      " [ -6.361987     9.5713288    6.87023243 ...,  11.16547081   2.02235643\n",
      "   -0.18588858]\n",
      " [ -9.66912804  21.42441974  -0.29348722 ...,   3.27723164   7.4334893\n",
      "    3.33277904]\n",
      " [  3.9811001   -4.54033576 -12.12078047 ..., -16.04439523   5.98050426\n",
      "    3.28627688]]\n"
     ]
    }
   ],
   "source": [
    "X = np.random.normal(loc=1, scale=10, size=(1000, 50))\n",
    "print (X)"
   ]
  },
  {
   "cell_type": "code",
   "execution_count": 15,
   "metadata": {
    "collapsed": false
   },
   "outputs": [
    {
     "name": "stdout",
     "output_type": "stream",
     "text": [
      "[[-0.27793661  0.92432775 -0.68076314 ..., -2.18439799 -0.3739165\n",
      "  -0.06458236]\n",
      " [ 1.53024583 -2.2809411   0.35755091 ...,  0.26655154  1.06635229\n",
      "   0.65486036]\n",
      " [-1.0267862   0.72668262 -1.43811199 ...,  0.09188928  0.74635707\n",
      "  -1.53293609]\n",
      " ..., \n",
      " [-0.73967823  0.84559924  0.591731   ...,  1.08748837  0.11364814\n",
      "  -0.07696324]\n",
      " [-1.06707809  2.01749396 -0.16469064 ...,  0.27905859  0.64974929\n",
      "   0.28543093]\n",
      " [ 0.28426517 -0.54959677 -1.41354194 ..., -1.70112714  0.50579664\n",
      "   0.28064159]]\n",
      "0.922401642507\n"
     ]
    }
   ],
   "source": [
    "m = np.mean(X, axis=0)\n",
    "std = np.std(X, axis=0)\n",
    "X_norm = ((X - m)  / std)\n",
    "print(X_norm)\n",
    "b = np.median(X)\n",
    "print(b)"
   ]
  },
  {
   "cell_type": "code",
   "execution_count": 5,
   "metadata": {
    "collapsed": false
   },
   "outputs": [
    {
     "name": "stdout",
     "output_type": "stream",
     "text": [
      "[[4 5 0]\n",
      " [1 9 3]\n",
      " [5 1 1]\n",
      " [3 3 3]\n",
      " [9 9 9]\n",
      " [4 7 1]]\n"
     ]
    }
   ],
   "source": [
    "Z = np.array([[4, 5, 0], \n",
    "             [1, 9, 3],              \n",
    "             [5, 1, 1],\n",
    "             [3, 3, 3], \n",
    "             [9, 9, 9], \n",
    "             [4, 7, 1]])\n",
    "print(Z)"
   ]
  },
  {
   "cell_type": "code",
   "execution_count": 6,
   "metadata": {
    "collapsed": false
   },
   "outputs": [
    {
     "name": "stdout",
     "output_type": "stream",
     "text": [
      "(array([1, 4, 5], dtype=int64),)\n"
     ]
    }
   ],
   "source": [
    "r = np.sum(Z, axis=1)\n",
    "print(np.nonzero(r > 10))"
   ]
  },
  {
   "cell_type": "code",
   "execution_count": 12,
   "metadata": {
    "collapsed": false
   },
   "outputs": [
    {
     "name": "stdout",
     "output_type": "stream",
     "text": [
      "[[ 1.  0.  0.]\n",
      " [ 0.  1.  0.]\n",
      " [ 0.  0.  1.]]\n",
      "[[ 1.  0.  0.]\n",
      " [ 0.  1.  0.]\n",
      " [ 0.  0.  1.]]\n",
      "[[ 1.  0.  0.]\n",
      " [ 0.  1.  0.]\n",
      " [ 0.  0.  1.]\n",
      " [ 1.  0.  0.]\n",
      " [ 0.  1.  0.]\n",
      " [ 0.  0.  1.]]\n"
     ]
    }
   ],
   "source": [
    "A = np.eye(3)\n",
    "B = np.eye(3)\n",
    "print(A)\n",
    "print(B)\n",
    "AB = np.vstack((A,B))\n",
    "print(AB)"
   ]
  }
 ],
 "metadata": {
  "anaconda-cloud": {},
  "kernelspec": {
   "display_name": "Python [Root]",
   "language": "python",
   "name": "Python [Root]"
  },
  "language_info": {
   "codemirror_mode": {
    "name": "ipython",
    "version": 3
   },
   "file_extension": ".py",
   "mimetype": "text/x-python",
   "name": "python",
   "nbconvert_exporter": "python",
   "pygments_lexer": "ipython3",
   "version": "3.5.2"
  }
 },
 "nbformat": 4,
 "nbformat_minor": 0
}
