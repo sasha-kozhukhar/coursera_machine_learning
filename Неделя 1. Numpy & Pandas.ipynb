{
 "cells": [
  {
   "cell_type": "code",
   "execution_count": 4,
   "metadata": {
    "collapsed": true
   },
   "outputs": [],
   "source": [
    "import numpy as np\n",
    "import pandas"
   ]
  },
  {
   "cell_type": "code",
   "execution_count": 5,
   "metadata": {
    "collapsed": false
   },
   "outputs": [
    {
     "data": {
      "text/plain": [
       "male      577\n",
       "female    314\n",
       "Name: Sex, dtype: int64"
      ]
     },
     "execution_count": 5,
     "metadata": {},
     "output_type": "execute_result"
    }
   ],
   "source": [
    "data = pandas.read_csv('titanic.csv', index_col='PassengerId')\n",
    "# Первый вопрос\n",
    "data['Sex'].value_counts()"
   ]
  },
  {
   "cell_type": "code",
   "execution_count": 6,
   "metadata": {
    "collapsed": false,
    "scrolled": true
   },
   "outputs": [
    {
     "data": {
      "text/html": [
       "<div>\n",
       "<table border=\"1\" class=\"dataframe\">\n",
       "  <thead>\n",
       "    <tr style=\"text-align: right;\">\n",
       "      <th></th>\n",
       "      <th>Survived</th>\n",
       "      <th>Pclass</th>\n",
       "      <th>Name</th>\n",
       "      <th>Sex</th>\n",
       "      <th>Age</th>\n",
       "      <th>SibSp</th>\n",
       "      <th>Parch</th>\n",
       "      <th>Ticket</th>\n",
       "      <th>Fare</th>\n",
       "      <th>Cabin</th>\n",
       "      <th>Embarked</th>\n",
       "    </tr>\n",
       "    <tr>\n",
       "      <th>PassengerId</th>\n",
       "      <th></th>\n",
       "      <th></th>\n",
       "      <th></th>\n",
       "      <th></th>\n",
       "      <th></th>\n",
       "      <th></th>\n",
       "      <th></th>\n",
       "      <th></th>\n",
       "      <th></th>\n",
       "      <th></th>\n",
       "      <th></th>\n",
       "    </tr>\n",
       "  </thead>\n",
       "  <tbody>\n",
       "    <tr>\n",
       "      <th>1</th>\n",
       "      <td>0</td>\n",
       "      <td>3</td>\n",
       "      <td>Braund, Mr. Owen Harris</td>\n",
       "      <td>male</td>\n",
       "      <td>22.0</td>\n",
       "      <td>1</td>\n",
       "      <td>0</td>\n",
       "      <td>A/5 21171</td>\n",
       "      <td>7.2500</td>\n",
       "      <td>NaN</td>\n",
       "      <td>S</td>\n",
       "    </tr>\n",
       "    <tr>\n",
       "      <th>2</th>\n",
       "      <td>1</td>\n",
       "      <td>1</td>\n",
       "      <td>Cumings, Mrs. John Bradley (Florence Briggs Th...</td>\n",
       "      <td>female</td>\n",
       "      <td>38.0</td>\n",
       "      <td>1</td>\n",
       "      <td>0</td>\n",
       "      <td>PC 17599</td>\n",
       "      <td>71.2833</td>\n",
       "      <td>C85</td>\n",
       "      <td>C</td>\n",
       "    </tr>\n",
       "    <tr>\n",
       "      <th>3</th>\n",
       "      <td>1</td>\n",
       "      <td>3</td>\n",
       "      <td>Heikkinen, Miss. Laina</td>\n",
       "      <td>female</td>\n",
       "      <td>26.0</td>\n",
       "      <td>0</td>\n",
       "      <td>0</td>\n",
       "      <td>STON/O2. 3101282</td>\n",
       "      <td>7.9250</td>\n",
       "      <td>NaN</td>\n",
       "      <td>S</td>\n",
       "    </tr>\n",
       "    <tr>\n",
       "      <th>4</th>\n",
       "      <td>1</td>\n",
       "      <td>1</td>\n",
       "      <td>Futrelle, Mrs. Jacques Heath (Lily May Peel)</td>\n",
       "      <td>female</td>\n",
       "      <td>35.0</td>\n",
       "      <td>1</td>\n",
       "      <td>0</td>\n",
       "      <td>113803</td>\n",
       "      <td>53.1000</td>\n",
       "      <td>C123</td>\n",
       "      <td>S</td>\n",
       "    </tr>\n",
       "    <tr>\n",
       "      <th>5</th>\n",
       "      <td>0</td>\n",
       "      <td>3</td>\n",
       "      <td>Allen, Mr. William Henry</td>\n",
       "      <td>male</td>\n",
       "      <td>35.0</td>\n",
       "      <td>0</td>\n",
       "      <td>0</td>\n",
       "      <td>373450</td>\n",
       "      <td>8.0500</td>\n",
       "      <td>NaN</td>\n",
       "      <td>S</td>\n",
       "    </tr>\n",
       "  </tbody>\n",
       "</table>\n",
       "</div>"
      ],
      "text/plain": [
       "             Survived  Pclass  \\\n",
       "PassengerId                     \n",
       "1                   0       3   \n",
       "2                   1       1   \n",
       "3                   1       3   \n",
       "4                   1       1   \n",
       "5                   0       3   \n",
       "\n",
       "                                                          Name     Sex   Age  \\\n",
       "PassengerId                                                                    \n",
       "1                                      Braund, Mr. Owen Harris    male  22.0   \n",
       "2            Cumings, Mrs. John Bradley (Florence Briggs Th...  female  38.0   \n",
       "3                                       Heikkinen, Miss. Laina  female  26.0   \n",
       "4                 Futrelle, Mrs. Jacques Heath (Lily May Peel)  female  35.0   \n",
       "5                                     Allen, Mr. William Henry    male  35.0   \n",
       "\n",
       "             SibSp  Parch            Ticket     Fare Cabin Embarked  \n",
       "PassengerId                                                          \n",
       "1                1      0         A/5 21171   7.2500   NaN        S  \n",
       "2                1      0          PC 17599  71.2833   C85        C  \n",
       "3                0      0  STON/O2. 3101282   7.9250   NaN        S  \n",
       "4                1      0            113803  53.1000  C123        S  \n",
       "5                0      0            373450   8.0500   NaN        S  "
      ]
     },
     "execution_count": 6,
     "metadata": {},
     "output_type": "execute_result"
    }
   ],
   "source": [
    "data.head()"
   ]
  },
  {
   "cell_type": "code",
   "execution_count": 7,
   "metadata": {
    "collapsed": false,
    "scrolled": true
   },
   "outputs": [
    {
     "data": {
      "text/plain": [
       "0    549\n",
       "1    342\n",
       "Name: Survived, dtype: int64"
      ]
     },
     "execution_count": 7,
     "metadata": {},
     "output_type": "execute_result"
    }
   ],
   "source": [
    "data[\"Survived\"].value_counts()"
   ]
  },
  {
   "cell_type": "code",
   "execution_count": 8,
   "metadata": {
    "collapsed": false
   },
   "outputs": [
    {
     "name": "stdout",
     "output_type": "stream",
     "text": [
      "891\n"
     ]
    },
    {
     "data": {
      "text/plain": [
       "38.38"
      ]
     },
     "execution_count": 8,
     "metadata": {},
     "output_type": "execute_result"
    }
   ],
   "source": [
    "# Второй вопрос\n",
    "print(len(data[\"Survived\"]))\n",
    "round(342/len(data[\"Pclass\"])*100, 2)"
   ]
  },
  {
   "cell_type": "code",
   "execution_count": 9,
   "metadata": {
    "collapsed": false,
    "scrolled": true
   },
   "outputs": [
    {
     "name": "stdout",
     "output_type": "stream",
     "text": [
      "3    491\n",
      "1    216\n",
      "2    184\n",
      "Name: Pclass, dtype: int64\n",
      "891\n"
     ]
    },
    {
     "data": {
      "text/plain": [
       "24.24"
      ]
     },
     "execution_count": 9,
     "metadata": {},
     "output_type": "execute_result"
    }
   ],
   "source": [
    "print(data[\"Pclass\"].value_counts())\n",
    "print(len(data[\"Pclass\"]))\n",
    "# Третий вопрос\n",
    "round(216/len(data[\"Pclass\"])*100, 2)"
   ]
  },
  {
   "cell_type": "code",
   "execution_count": 195,
   "metadata": {
    "collapsed": false
   },
   "outputs": [
    {
     "name": "stdout",
     "output_type": "stream",
     "text": [
      "mean 29.7\n",
      "median 28.0\n"
     ]
    }
   ],
   "source": [
    "# Четвертый вопрос\n",
    "m = np.mean(data[\"Age\"].dropna())\n",
    "n = np.median(data[\"Age\"].dropna())\n",
    "print ('mean', round(m, 2))\n",
    "print ('median', round(n, 2))"
   ]
  },
  {
   "cell_type": "code",
   "execution_count": 27,
   "metadata": {
    "collapsed": false
   },
   "outputs": [
    {
     "data": {
      "text/plain": [
       "0.41483769862015613"
      ]
     },
     "execution_count": 27,
     "metadata": {},
     "output_type": "execute_result"
    }
   ],
   "source": [
    "# Пятый вопрос\n",
    "data['SibSp'].corr(data[\"Parch\"],method=\"pearson\")"
   ]
  },
  {
   "cell_type": "code",
   "execution_count": 187,
   "metadata": {
    "collapsed": false
   },
   "outputs": [
    {
     "name": "stdout",
     "output_type": "stream",
     "text": [
      "314\n"
     ]
    }
   ],
   "source": [
    "# Шестой вопрос\n",
    "import re\n",
    "thelist = data[\"Name\"].tolist()\n",
    "regex = re.compile(\"(Mrs|Miss|Mme|Mlle|Countess|Ms|Dr)\\..*^\")\n",
    "women = [m.group(0) for l in thelist for m in [regex.search(l)] if m]\n",
    "print (len(women)-5)"
   ]
  },
  {
   "cell_type": "code",
   "execution_count": 192,
   "metadata": {
    "collapsed": false
   },
   "outputs": [
    {
     "data": {
      "text/plain": [
       "array(['male', 'female', 'female', 'female', 'male', 'male', 'male',\n",
       "       'male', 'female', 'female', 'female', 'female', 'male', 'male',\n",
       "       'female', 'female', 'male', 'male', 'female', 'female', 'male',\n",
       "       'male', 'female', 'male', 'female', 'female', 'male', 'male',\n",
       "       'female', 'male', 'male', 'female', 'female', 'male', 'male',\n",
       "       'male', 'male', 'male', 'female', 'female', 'female', 'female',\n",
       "       'male', 'female', 'female', 'male', 'male', 'female', 'male',\n",
       "       'female', 'male', 'male', 'female', 'female', 'male', 'male',\n",
       "       'female', 'male', 'female', 'male', 'male', 'female', 'male',\n",
       "       'male', 'male', 'male', 'female', 'male', 'female', 'male', 'male',\n",
       "       'female', 'male', 'male', 'male', 'male', 'male', 'male', 'male',\n",
       "       'female', 'male', 'male', 'female', 'male', 'female', 'female',\n",
       "       'male', 'male', 'female', 'male', 'male', 'male', 'male', 'male',\n",
       "       'male', 'male', 'male', 'male', 'female', 'male', 'female', 'male',\n",
       "       'male', 'male', 'male', 'male', 'female', 'male', 'male', 'female',\n",
       "       'male', 'female', 'male', 'female', 'female', 'male', 'male',\n",
       "       'male', 'male', 'female', 'male', 'male', 'male', 'female', 'male',\n",
       "       'male', 'male', 'male', 'female', 'male', 'male', 'male', 'female',\n",
       "       'female', 'male', 'male', 'female', 'male', 'male', 'male',\n",
       "       'female', 'female', 'female', 'male', 'male', 'male', 'male',\n",
       "       'female', 'male', 'male', 'male', 'female', 'male', 'male', 'male',\n",
       "       'male', 'female', 'male', 'male', 'male', 'male', 'female', 'male',\n",
       "       'male', 'male', 'male', 'female', 'female', 'male', 'male', 'male',\n",
       "       'male', 'female', 'male', 'male', 'male', 'male', 'female', 'male',\n",
       "       'male', 'female', 'male', 'male', 'male', 'female', 'male',\n",
       "       'female', 'male', 'male', 'male', 'female', 'male', 'female',\n",
       "       'male', 'female', 'female', 'male', 'male', 'female', 'female',\n",
       "       'male', 'male', 'male', 'male', 'male', 'female', 'male', 'male',\n",
       "       'female', 'male', 'male', 'female', 'male', 'male', 'male',\n",
       "       'female', 'female', 'male', 'female', 'male', 'male', 'male',\n",
       "       'male', 'male', 'male', 'male', 'male', 'male', 'male', 'female',\n",
       "       'female', 'male', 'male', 'female', 'male', 'female', 'male',\n",
       "       'female', 'male', 'male', 'female', 'female', 'male', 'male',\n",
       "       'male', 'male', 'female', 'female', 'male', 'male', 'male',\n",
       "       'female', 'male', 'male', 'female', 'female', 'female', 'female',\n",
       "       'female', 'female', 'male', 'male', 'male', 'male', 'female',\n",
       "       'male', 'male', 'male', 'female', 'female', 'male', 'male',\n",
       "       'female', 'male', 'female', 'female', 'female', 'male', 'male',\n",
       "       'female', 'male', 'male', 'male', 'male', 'male', 'male', 'male',\n",
       "       'male', 'male', 'female', 'female', 'female', 'male', 'female',\n",
       "       'male', 'male', 'male', 'female', 'male', 'female', 'female',\n",
       "       'male', 'male', 'female', 'male', 'male', 'female', 'female',\n",
       "       'male', 'female', 'female', 'female', 'female', 'male', 'male',\n",
       "       'female', 'female', 'male', 'female', 'female', 'male', 'male',\n",
       "       'female', 'female', 'male', 'female', 'male', 'female', 'female',\n",
       "       'female', 'female', 'male', 'male', 'male', 'female', 'male',\n",
       "       'male', 'female', 'male', 'male', 'male', 'female', 'male', 'male',\n",
       "       'male', 'female', 'female', 'female', 'male', 'male', 'male',\n",
       "       'male', 'male', 'male', 'male', 'male', 'female', 'female',\n",
       "       'female', 'female', 'male', 'male', 'female', 'male', 'male',\n",
       "       'male', 'female', 'female', 'female', 'female', 'male', 'male',\n",
       "       'male', 'male', 'female', 'female', 'female', 'male', 'male',\n",
       "       'male', 'female', 'female', 'male', 'female', 'male', 'male',\n",
       "       'male', 'female', 'male', 'female', 'male', 'male', 'male',\n",
       "       'female', 'female', 'male', 'female', 'male', 'male', 'female',\n",
       "       'male', 'male', 'female', 'male', 'female', 'male', 'male', 'male',\n",
       "       'male', 'female', 'male', 'male', 'female', 'male', 'male',\n",
       "       'female', 'female', 'female', 'male', 'female', 'male', 'male',\n",
       "       'male', 'female', 'male', 'male', 'female', 'female', 'male',\n",
       "       'male', 'male', 'female', 'female', 'male', 'male', 'female',\n",
       "       'female', 'female', 'male', 'male', 'female', 'male', 'male',\n",
       "       'female', 'male', 'male', 'female', 'male', 'female', 'male',\n",
       "       'male', 'male', 'male', 'male', 'male', 'male', 'male', 'female',\n",
       "       'female', 'male', 'male', 'male', 'male', 'male', 'male', 'male',\n",
       "       'male', 'male', 'male', 'female', 'male', 'male', 'female',\n",
       "       'female', 'female', 'male', 'male', 'male', 'male', 'female',\n",
       "       'male', 'male', 'male', 'female', 'male', 'female', 'female',\n",
       "       'male', 'male', 'male', 'male', 'male', 'male', 'male', 'male',\n",
       "       'male', 'female', 'male', 'female', 'male', 'male', 'female',\n",
       "       'female', 'female', 'female', 'male', 'female', 'male', 'male',\n",
       "       'male', 'male', 'male', 'male', 'female', 'male', 'male', 'female',\n",
       "       'male', 'female', 'male', 'female', 'male', 'male', 'female',\n",
       "       'male', 'male', 'female', 'male', 'male', 'male', 'female', 'male',\n",
       "       'male', 'female', 'female', 'female', 'male', 'female', 'male',\n",
       "       'female', 'female', 'female', 'female', 'male', 'male', 'male',\n",
       "       'female', 'male', 'male', 'male', 'male', 'male', 'male', 'male',\n",
       "       'female', 'male', 'female', 'male', 'female', 'female', 'male',\n",
       "       'male', 'male', 'male', 'female', 'male', 'male', 'female', 'male',\n",
       "       'male', 'male', 'female', 'male', 'female', 'male', 'male',\n",
       "       'female', 'female', 'female', 'male', 'female', 'female', 'male',\n",
       "       'male', 'male', 'female', 'male', 'male', 'male', 'male', 'male',\n",
       "       'female', 'male', 'female', 'male', 'male', 'female', 'male',\n",
       "       'male', 'male', 'female', 'male', 'male', 'male', 'male', 'male',\n",
       "       'male', 'male', 'female', 'female', 'female', 'male', 'female',\n",
       "       'male', 'male', 'female', 'male', 'female', 'female', 'male',\n",
       "       'male', 'male', 'male', 'male', 'male', 'male', 'male', 'female',\n",
       "       'male', 'male', 'male', 'male', 'male', 'male', 'female', 'female',\n",
       "       'male', 'male', 'female', 'male', 'male', 'female', 'female',\n",
       "       'male', 'female', 'male', 'male', 'male', 'male', 'female', 'male',\n",
       "       'female', 'male', 'female', 'female', 'male', 'male', 'female',\n",
       "       'male', 'male', 'male', 'male', 'male', 'male', 'male', 'male',\n",
       "       'male', 'male', 'male', 'female', 'female', 'male', 'male', 'male',\n",
       "       'male', 'male', 'male', 'female', 'female', 'male', 'female',\n",
       "       'male', 'male', 'male', 'male', 'male', 'male', 'male', 'male',\n",
       "       'female', 'male', 'female', 'male', 'male', 'male', 'male', 'male',\n",
       "       'female', 'male', 'male', 'female', 'male', 'female', 'male',\n",
       "       'male', 'male', 'female', 'male', 'female', 'male', 'female',\n",
       "       'male', 'male', 'male', 'male', 'male', 'female', 'female', 'male',\n",
       "       'male', 'female', 'male', 'male', 'male', 'male', 'male', 'female',\n",
       "       'female', 'male', 'female', 'female', 'male', 'male', 'male',\n",
       "       'male', 'male', 'female', 'male', 'male', 'male', 'male', 'male',\n",
       "       'female', 'male', 'male', 'male', 'male', 'female', 'male', 'male',\n",
       "       'female', 'male', 'male', 'male', 'female', 'male', 'male', 'male',\n",
       "       'male', 'female', 'male', 'male', 'male', 'female', 'male',\n",
       "       'female', 'male', 'female', 'male', 'male', 'male', 'male',\n",
       "       'female', 'male', 'female', 'male', 'male', 'female', 'male',\n",
       "       'female', 'female', 'female', 'male', 'male', 'male', 'male',\n",
       "       'female', 'male', 'male', 'male', 'male', 'male', 'female', 'male',\n",
       "       'male', 'male', 'female', 'female', 'male', 'female', 'male',\n",
       "       'female', 'male', 'male', 'male', 'male', 'male', 'female', 'male',\n",
       "       'female', 'male', 'male', 'male', 'female', 'male', 'male',\n",
       "       'female', 'male', 'male', 'male', 'female', 'male', 'male',\n",
       "       'female', 'male', 'male', 'male', 'male', 'male', 'female',\n",
       "       'female', 'male', 'male', 'male', 'male', 'female', 'male', 'male',\n",
       "       'male', 'male', 'male', 'male', 'female', 'male', 'male', 'male',\n",
       "       'male', 'male', 'male', 'female', 'male', 'male', 'female',\n",
       "       'female', 'female', 'female', 'female', 'male', 'female', 'male',\n",
       "       'male', 'male', 'female', 'female', 'male', 'female', 'female',\n",
       "       'male', 'male', 'male', 'male', 'female', 'male', 'male', 'female',\n",
       "       'female', 'male', 'male', 'male', 'female', 'female', 'male',\n",
       "       'female', 'male', 'male', 'female', 'male', 'female', 'female',\n",
       "       'male', 'male'], dtype=object)"
      ]
     },
     "execution_count": 192,
     "metadata": {},
     "output_type": "execute_result"
    }
   ],
   "source": [
    "import re\n",
    "woman = []\n",
    "\n",
    "data[\"Sex\"].values\n",
    "#if data[\"Sex\"].values == \"female\":\n",
    "#    woman.append(data[\"Name\"])\n",
    "    \n",
    "#print(woman)"
   ]
  },
  {
   "cell_type": "code",
   "execution_count": 193,
   "metadata": {
    "collapsed": false
   },
   "outputs": [
    {
     "name": "stdout",
     "output_type": "stream",
     "text": [
      "['Mrs. John Bradley (Florence Briggs Thayer)', 'Mrs. Jacques Heath (Lily May Peel)', 'Mrs. Oscar W (Elisabeth Vilhelmina Berg)', 'Mrs. Nicholas (Adele Achem)', 'Mrs. (Mary D Kingcome) ', 'Mrs. Julius (Emelia Maria Vandemoortele)', 'Mrs. Fatima', 'Mrs. Carl Oscar (Selma Augusta Emilia Johansson)', 'Mrs. William Augustus (Marie Eugenie)', 'Mrs. Johan (Johanna Persdotter Larsson)', 'Mrs. William John Robert (Dorothy Ann Wonnacott)', 'Mrs. Josef (Josefine Franchi)', 'Mrs. Henry Sleeper (Myna Haxtun)', 'Mrs. Lizzie (Elizabeth Anne Wilkinson)', 'Mrs. (Elizabeth Ramell)', 'Mrs. Karl Alfred (Maria Mathilda Gustafsson)', 'Mrs. John T (Ada Julia Bone)', 'Mrs. Alexander A (Grace Charity Laury)', 'Mrs. Leopold (Mathilde Francoise Pede)', 'Mrs. Joseph (Sultana)', 'Mrs. Pekka Pietari (Elin Matilda Dolck)', 'Mrs. Thomas (Edith Wearne)', 'Mrs. James (Elizabeth \"Bessie\" Inglis Milne)', 'Mrs. (Edith Martha Bowerman)', 'Mrs. William (Anna Bernhardina Karlsson)', 'Mrs. Thomas (Johanna \"Hannah\" Godfrey)', 'Mrs. (Rosa)', 'Mrs. James Joseph (Margaret Tobin)', 'Mrs. Henry Birkhardt (Irene Wallach)', 'Mrs. William (Anna)', 'Mrs. Wilhelm (Elna Matilda Persson)', 'Mrs. Viktor (Helena Wilhelmina)', 'Mrs. Darwis (Hanne Youssef Razi)', 'Mrs. Gertrude', 'Mrs. (Lutie Davis)', 'Mrs. William Thompson (Edith Junkins)', 'Mrs. (Elizabeth Anne Maidment)', 'Mrs. Stanton (Rosa Hunt)', 'Mrs. Dickinson H (Helen Walton)', 'Mrs. James (Helene DeLaudeniere Chaput)', 'Mrs. Victor de Satode (Maria Josefa Perez de Soto y Vallejo)', 'Mrs. William (Anna Sylfven)', 'Mrs. Sinai (Miriam Sternin)', 'Mrs. Frederic Oakley (Margaretta Corning Stone)', 'Mrs. Albert Francis (Sylvia Mae Harbaugh)', 'Mrs. (Ada E Hall)', 'Mrs. Frank John (Emily Alice Brown)', 'Mrs. Henry William (Clara Heinsheimer)', 'Mrs. Thomas Henry (Mary E Finck)', 'Mrs. (Catherine David)', 'Mrs. Frank Manley (Anna Sophia Atkinson)', 'Mrs. (Mantoura Boulos)', 'Mrs. Edgar Joseph (Leila Saks)', 'Mrs. Alexander Oskar (Mary Aline Towner)', 'Mrs. Hjalmar (Agnes Charlotta Bengtsson)', 'Mrs. William H (Jessie L)', 'Mrs. Thomas (Annie Louise Rowley)', 'Mrs. James Vivian (Lulu Thorne Christian)', 'Mrs. Ernst Gilbert (Anna Sigrid Maria Brogren)', 'Mrs. Charles V (Ada Maria Winfield)', 'Mrs. Percival (Florence Kate White)', 'Mrs. Charles Alexander (Alice Adelaide Slow)', 'Mrs. Sidney (Emily Hocking)', 'Mrs. Benjamin (Esther Ada Bloomfield)', 'Mrs. Frederick R (Marion)', 'Mrs. Edwy Arthur (Ada Mary Worth)', 'Mrs. Amin S (Marie Marthe Thuillard)', 'Mrs. (Hedwig)', 'Mrs. Frederick Maxfield (Jane Anne Forby)', 'Mrs. Hudson J C (Bessie Waldo Daniels)', 'Mrs. Frederick Charles (Jane Richards)', 'Mrs. Martin (Elizabeth L. Barrett)', 'Mrs. (Amelia Milley)', 'Mrs. William A (Florence \"Mary\" Agnes Hughes)', 'Mrs. Louis Albert (Ida Sophia Fischer)', 'Mrs. Catherine (Catherine Rizk)', 'Mrs. Edward (Ethel Clarke)', 'Mrs. Emil (Tillie Mandelbaum)', 'Mrs. Guillaume Joseph (Emma)', 'Mrs. Nils (Alma Cornelia Berglund)', 'Mrs. Edward Dale (Charlotte Lamson)', 'Mrs. William Baird (Alice Munger)', 'Mrs. Joseph (Maria Elias)', 'Mrs. John Borland (Marian Longstreth Morris)', 'Mrs. Walter Bertram (Martha Eustis)', 'Mrs. Sidney Samuel (Amy Frances Christy)', 'Mrs. Joseph (Juliette Marie Louise Lafargue)', 'Mrs. Anders Johan (Alfrida Konstantia Brogren)', 'Mrs. William Arthur (Cordelia K Stanlick)', 'Mrs. Juha (Maria Emilia Ojala)', 'Mrs. John (Catherine)', 'Mrs. Elmer Zebley (Juliet Cummins Wright)', 'Mrs. Thomas William Solomon (Elizabeth Catherine Ford)', 'Mrs. Frederick (Augusta Tyler)', 'Mrs. John Jacob (Madeleine Talmadge Force)', 'Mrs. Florence', 'Mrs. Peter Henry (Lillian Jefferys)', 'Mrs. Edward (Margaret Ann Watson)', 'Mrs. Samuel (Jane Laver)', 'Mrs. William Ernest (Lucile Polk)', 'Mrs. John C (Anna Andrews)', 'Mrs. (Mary)', 'Mrs. Elizabeth (Eliza Needs)', 'Mrs. Edward Scott (Elisabeth Walton McMillan)', 'Mrs. Albert Adrian (Vera Gillespie)', 'Mrs. Mara', 'Mrs. Jean Baptiste (Rosalie Paula Govaert)', 'Mrs. Harvey (Charlotte Annie Tate)', 'Mrs. Norman Campbell (Bertha Griggs)', 'Mrs. Charles Melville (Clara Jennings Gregg)', 'Mrs. (Beila)', 'Mrs. George Nelson (Martha Evelyn)', 'Mrs. Antoni (Selini Alexander)', 'Mrs. Samuel L (Edwiga Grabowska)', 'Mrs. Ernest Courtenay (Lilian Hughes)', 'Mrs. Sam (Leah Rosen)', 'Mrs. George Dennick (Mary Hitchcock)', 'Mrs. Solomon (Latifa Qurban)', 'Mrs. Frederick Joel (Margaret Welles Barron)', 'Mrs. (Karolina)', 'Mrs. Richard Leonard (Sallie Monypeny)', 'Mrs. Samuel (Hannah Wizosky)', 'Mrs. Thomas Jr (Lily Alexenia Wilson)', 'Mrs. William (Imanita Parrish Hall)', 'Mrs. William (Margaret Norton)']\n",
      "125\n",
      "['Miss. Laina', 'Miss. Marguerite Rut', 'Miss. Elizabeth', 'Miss. Hulda Amanda Adolfina', 'Miss. Anna \"Annie\"', 'Miss. Torborg Danira', 'Miss. Ellen \"Nellie\"', 'Miss. Mary Agatha', 'Miss. Augusta Maria', 'Miss. Jamila', 'Miss. Simonne Marie Anne Andree', 'Miss. Margaret Delia', 'Miss. Bridget', 'Miss. Emily', 'Miss. Constance Mirium', 'Miss. Amelie', 'Miss. Erna Alexandra', 'Miss. Lillian Amy', 'Miss. Elizabeth', 'Miss. Brigdet Delia', 'Miss. Bertha', 'Miss. Mabel Helen', 'Miss. Matilda', 'Miss. Anna Kristine', 'Miss. Bertha', 'Miss. Hileni', 'Miss. Katriina', 'Miss. Malake', 'Miss. Ellis Anna Maria', 'Miss. Susan', 'Miss. Anna', 'Miss. Helen Monypeny', 'Miss. Anna Sofia', 'Miss. Robina Maggie \"Ruby\"', 'Miss. Katherine \"Katie\"', 'Miss. Eleanor Ileen', 'Miss. Ann Elizabeth', 'Miss. Constance Gladys', 'Miss. Luise Gretchen', 'Miss. Carla Christine Nielsine', 'Miss. Elise', 'Miss. Margaret \"Maggie\"', 'Miss. Henriette (\"Mrs Harbeck\")', 'Miss. Telma Matilda', 'Miss. Helen \"Ellen\"', 'Miss. Clear Annie', 'Miss. Madeleine', 'Miss. Eliina', 'Miss. Albina', 'Miss. Mathilde', 'Miss. Lillian Gertrud', 'Miss. Alice Phoebe', 'Miss. Marjorie \"Lottie\"', 'Miss. Thamine', 'Miss. Katherine \"Kate\"', 'Dr. William Edward', 'Miss. Agda Thorilda Viktoria', 'Miss. Gladys', 'Miss. Anna', 'Miss. Delia', 'Miss. Amelia', 'Miss. Hanora \"Nora\"', 'Miss. Kornelia Theodosia', 'Miss. Augusta Charlotta', 'Miss. Kate', 'Miss. Ellen \"Nellie\"', 'Miss. Aloisia', 'Miss. Helen Loraine', 'Miss. Anna Katherine \"Annie Kate\"', 'Miss. Nora A', 'Miss. Margaret', 'Miss. Laura Mabel', 'Miss. Margaret Bechstein', 'Miss. Emily Borie', 'Miss. Helmina Josefina', 'Dr. Ernest', 'Miss. Mary Natalie', 'Miss. Hilda Mary', 'Miss. Marie Grice', 'Miss. Jean Gertrude', 'Miss. Agnes', 'Miss. Elizabeth Margaret', 'Miss. Alice Elizabeth', 'Miss. Amelia \"Mildred\"', 'Miss. Marion Elsie', 'Miss. Elsie Edith', 'Miss. Annie Clemmer', 'Miss. Mary', 'Miss. Helen Mary \"Ellie\"', 'Miss. Annie', 'Mme. Leontine Pauline', 'Miss. Stina Viola', 'Miss. Aurora Adelia', 'Miss. Rosalie', 'Miss. Maria (\"Mary\")', 'Miss. Kate', 'Miss. Bertha', 'Miss. Marjorie', 'Miss. Elina', 'Dr. Alfred', 'Miss. Mari Aina', 'Miss. Marija', 'Miss. Ida', 'Miss. Daisy E', 'Miss. Lyyli Karoliina', 'Miss. Catharina', 'Miss. Kate Florence (\"Mrs Kate Louise Phillips Marshall\")', 'Miss. Lucile Polk', 'Miss. Doolina Margaret \"Daisy\"', 'Ms. Encarnacion', 'Miss. Madeleine Violet', 'Miss. Marie Catherine', 'Miss. Ellen', 'Miss. Helene Barbara', 'Miss. Ida Sofia', 'Miss. Hildur E', 'Miss. Jeannie', 'Miss. Elizabeth Mussey', 'Miss. Mary', 'Miss. Bridget Mary', 'Miss. Kristina Sofia', 'Miss. Roberta', 'Miss. Anne', 'Miss. Lucy', 'Miss. Phyllis May', 'Miss. Marija', 'Miss. Eva Miriam', 'Miss. Bertha', 'Miss. Hedwig Margaritha', 'Miss. Harriet R', 'Miss. Ingeborg Constanzia', 'Miss. Sigrid Elisabeth', 'Miss. Velin', 'Miss. (Marion Ogden)', 'Miss. Mary', 'Miss. Ethel', 'Miss. Julie Rachel', 'Miss. Ruth', 'Miss. Mary', 'Miss. Jessie Wills', 'Miss. Elizabeth W', 'Miss. Margaret Jane', 'Miss. Alice', 'Miss. Marion Louise', 'Miss. Gretchen Fiske', 'Dr. Max', 'Miss. Mabel', 'Miss. Mary', 'Mlle. Emma', 'Miss. Margit Elizabeth', 'Miss. Eugenie', 'Miss. Amy Zillah Elsie', 'Miss. Elsie', 'Miss. Hanora \"Norah\"', 'Miss. Hanora \"Nora\"', 'Dr. Henry William', 'Miss. Anna Sofia', 'Miss. Katie', 'Miss. Georgette Alexandra', 'Miss. Manca', 'Miss. Katherine \"Katie\"', 'Miss. Saiide', 'Miss. Alice', 'Mlle. Berthe Antonine (\"Mrs de Villiers\")', 'Miss. Caroline Louise', 'Miss. Edwina Celia \"Winnie\"', 'Miss. Annie Jessie \"Nina\"', 'Miss. Margareth', 'Miss. Pieta Sofia', 'Miss. Elisabeth Walton', 'Miss. Susan Parker \"Suzette\"', 'Miss. Anna', 'Miss. Joan', 'Countess. of (Lucy Noel Martha Dyer-Edwards)', 'Dr. Arthur Jackson', 'Miss. Mary', 'Miss. Virginia Ethel', 'Miss. Banoura', 'Miss. Anna Sofia', 'Miss. Stella Anna', 'Dr. Alice (Farnham)', 'Miss. Ellen Natalia', 'Miss. Ebba Iris Alfrida', 'Miss. Wendla Maria', 'Miss. Sara Rebecca', 'Miss. Augusta', 'Miss. Nourelain', 'Miss. Mary Conover', 'Miss. Dorothy Edith \"Dolly\"', 'Miss. Asuncion', 'Miss. Adele Kiamie \"Jane\"', 'Miss. Gerda Ulrika', 'Miss. Margaret Edith', 'Miss. Catherine Helen \"Carrie\"']\n",
      "194\n"
     ]
    }
   ],
   "source": [
    "regex = re.compile(\"(Mrs|Lady)\\.(.*\\(.*| \\w+)\")\n",
    "marriednames = [m.group(0) for l in women for m in [regex.search(l)] if m]\n",
    "mn = len(marriednames)\n",
    "print (marriednames)\n",
    "print (mn)\n",
    "regex = re.compile(\"(Miss|Mme|Mlle|Countess|Ms|Dr|Lady)\\..*\")\n",
    "nonmarriednames = [m.group(0) for l in women for m in [regex.search(l)] if m]\n",
    "print (nonmarriednames)\n",
    "nn = len(nonmarriednames)\n",
    "print (nn)\n"
   ]
  }
 ],
 "metadata": {
  "anaconda-cloud": {},
  "kernelspec": {
   "display_name": "Python [Root]",
   "language": "python",
   "name": "Python [Root]"
  },
  "language_info": {
   "codemirror_mode": {
    "name": "ipython",
    "version": 3
   },
   "file_extension": ".py",
   "mimetype": "text/x-python",
   "name": "python",
   "nbconvert_exporter": "python",
   "pygments_lexer": "ipython3",
   "version": "3.5.2"
  }
 },
 "nbformat": 4,
 "nbformat_minor": 0
}
