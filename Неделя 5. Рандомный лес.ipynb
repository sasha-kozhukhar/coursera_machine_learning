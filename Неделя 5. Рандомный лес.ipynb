{
 "cells": [
  {
   "cell_type": "code",
   "execution_count": 1,
   "metadata": {
    "collapsed": true
   },
   "outputs": [],
   "source": [
    "import pandas as pn\n",
    "import numpy as np\n",
    "from sklearn.ensemble import RandomForestClassifier, RandomForestRegressor\n",
    "from sklearn.metrics import r2_score"
   ]
  },
  {
   "cell_type": "code",
   "execution_count": 9,
   "metadata": {
    "collapsed": true
   },
   "outputs": [],
   "source": [
    "data = pn.read_csv('abalone.csv')"
   ]
  },
  {
   "cell_type": "code",
   "execution_count": 10,
   "metadata": {
    "collapsed": false
   },
   "outputs": [
    {
     "data": {
      "text/html": [
       "<div>\n",
       "<table border=\"1\" class=\"dataframe\">\n",
       "  <thead>\n",
       "    <tr style=\"text-align: right;\">\n",
       "      <th></th>\n",
       "      <th>Sex</th>\n",
       "      <th>Length</th>\n",
       "      <th>Diameter</th>\n",
       "      <th>Height</th>\n",
       "      <th>WholeWeight</th>\n",
       "      <th>ShuckedWeight</th>\n",
       "      <th>VisceraWeight</th>\n",
       "      <th>ShellWeight</th>\n",
       "      <th>Rings</th>\n",
       "    </tr>\n",
       "  </thead>\n",
       "  <tbody>\n",
       "    <tr>\n",
       "      <th>0</th>\n",
       "      <td>M</td>\n",
       "      <td>0.455</td>\n",
       "      <td>0.365</td>\n",
       "      <td>0.095</td>\n",
       "      <td>0.5140</td>\n",
       "      <td>0.2245</td>\n",
       "      <td>0.1010</td>\n",
       "      <td>0.150</td>\n",
       "      <td>15</td>\n",
       "    </tr>\n",
       "    <tr>\n",
       "      <th>1</th>\n",
       "      <td>M</td>\n",
       "      <td>0.350</td>\n",
       "      <td>0.265</td>\n",
       "      <td>0.090</td>\n",
       "      <td>0.2255</td>\n",
       "      <td>0.0995</td>\n",
       "      <td>0.0485</td>\n",
       "      <td>0.070</td>\n",
       "      <td>7</td>\n",
       "    </tr>\n",
       "    <tr>\n",
       "      <th>2</th>\n",
       "      <td>F</td>\n",
       "      <td>0.530</td>\n",
       "      <td>0.420</td>\n",
       "      <td>0.135</td>\n",
       "      <td>0.6770</td>\n",
       "      <td>0.2565</td>\n",
       "      <td>0.1415</td>\n",
       "      <td>0.210</td>\n",
       "      <td>9</td>\n",
       "    </tr>\n",
       "    <tr>\n",
       "      <th>3</th>\n",
       "      <td>M</td>\n",
       "      <td>0.440</td>\n",
       "      <td>0.365</td>\n",
       "      <td>0.125</td>\n",
       "      <td>0.5160</td>\n",
       "      <td>0.2155</td>\n",
       "      <td>0.1140</td>\n",
       "      <td>0.155</td>\n",
       "      <td>10</td>\n",
       "    </tr>\n",
       "    <tr>\n",
       "      <th>4</th>\n",
       "      <td>I</td>\n",
       "      <td>0.330</td>\n",
       "      <td>0.255</td>\n",
       "      <td>0.080</td>\n",
       "      <td>0.2050</td>\n",
       "      <td>0.0895</td>\n",
       "      <td>0.0395</td>\n",
       "      <td>0.055</td>\n",
       "      <td>7</td>\n",
       "    </tr>\n",
       "  </tbody>\n",
       "</table>\n",
       "</div>"
      ],
      "text/plain": [
       "  Sex  Length  Diameter  Height  WholeWeight  ShuckedWeight  VisceraWeight  \\\n",
       "0   M   0.455     0.365   0.095       0.5140         0.2245         0.1010   \n",
       "1   M   0.350     0.265   0.090       0.2255         0.0995         0.0485   \n",
       "2   F   0.530     0.420   0.135       0.6770         0.2565         0.1415   \n",
       "3   M   0.440     0.365   0.125       0.5160         0.2155         0.1140   \n",
       "4   I   0.330     0.255   0.080       0.2050         0.0895         0.0395   \n",
       "\n",
       "   ShellWeight  Rings  \n",
       "0        0.150     15  \n",
       "1        0.070      7  \n",
       "2        0.210      9  \n",
       "3        0.155     10  \n",
       "4        0.055      7  "
      ]
     },
     "execution_count": 10,
     "metadata": {},
     "output_type": "execute_result"
    }
   ],
   "source": [
    "data.head()"
   ]
  },
  {
   "cell_type": "code",
   "execution_count": 11,
   "metadata": {
    "collapsed": false
   },
   "outputs": [
    {
     "data": {
      "text/plain": [
       "4177"
      ]
     },
     "execution_count": 11,
     "metadata": {},
     "output_type": "execute_result"
    }
   ],
   "source": [
    "len(data)"
   ]
  },
  {
   "cell_type": "code",
   "execution_count": 12,
   "metadata": {
    "collapsed": true
   },
   "outputs": [],
   "source": [
    "data = data.replace(to_replace=\"M\", value=\"1\")\n",
    "data = data.replace(to_replace=\"F\", value=\"-1\")\n",
    "data = data.replace(to_replace=\"I\", value=\"0\")"
   ]
  },
  {
   "cell_type": "code",
   "execution_count": 13,
   "metadata": {
    "collapsed": false
   },
   "outputs": [],
   "source": [
    "target = data['Rings'].tolist()"
   ]
  },
  {
   "cell_type": "code",
   "execution_count": 14,
   "metadata": {
    "collapsed": false
   },
   "outputs": [
    {
     "data": {
      "text/plain": [
       "4177"
      ]
     },
     "execution_count": 14,
     "metadata": {},
     "output_type": "execute_result"
    }
   ],
   "source": [
    "len(target)"
   ]
  },
  {
   "cell_type": "code",
   "execution_count": 15,
   "metadata": {
    "collapsed": false
   },
   "outputs": [
    {
     "data": {
      "text/plain": [
       "['1', 0.455, 0.365, 0.095, 0.514, 0.2245, 0.10099999999999999, 0.15]"
      ]
     },
     "execution_count": 15,
     "metadata": {},
     "output_type": "execute_result"
    }
   ],
   "source": [
    "del data['Rings']\n",
    "data = [x[1].tolist() for x in data.iterrows()]\n",
    "data[0]"
   ]
  },
  {
   "cell_type": "code",
   "execution_count": 16,
   "metadata": {
    "collapsed": false
   },
   "outputs": [
    {
     "data": {
      "text/plain": [
       "4177"
      ]
     },
     "execution_count": 16,
     "metadata": {},
     "output_type": "execute_result"
    }
   ],
   "source": [
    "len(data)"
   ]
  },
  {
   "cell_type": "code",
   "execution_count": 17,
   "metadata": {
    "collapsed": true
   },
   "outputs": [],
   "source": [
    "from sklearn.cross_validation import KFold, cross_val_score"
   ]
  },
  {
   "cell_type": "code",
   "execution_count": 18,
   "metadata": {
    "collapsed": false
   },
   "outputs": [],
   "source": [
    "# Генератор разбиений делает 5 дровленых сэмлов с перемешанными данными\n",
    "kf = KFold(len(data), n_folds = 5, shuffle = True, random_state=1)"
   ]
  },
  {
   "cell_type": "code",
   "execution_count": 19,
   "metadata": {
    "collapsed": false
   },
   "outputs": [],
   "source": [
    "clf1 = RandomForestRegressor(n_estimators=1, random_state=1).fit(data, target)\n",
    "clf2 = RandomForestRegressor(n_estimators=2, random_state=1).fit(data, target)\n",
    "clf3 = RandomForestRegressor(n_estimators=3, random_state=1).fit(data, target)\n",
    "clf4 = RandomForestRegressor(n_estimators=4, random_state=1).fit(data, target)\n",
    "clf5 = RandomForestRegressor(n_estimators=5, random_state=1).fit(data, target)\n",
    "clf6 = RandomForestRegressor(n_estimators=6, random_state=1).fit(data, target)\n",
    "clf7 = RandomForestRegressor(n_estimators=7, random_state=1).fit(data, target)\n",
    "clf8 = RandomForestRegressor(n_estimators=8, random_state=1).fit(data, target)\n",
    "clf9 = RandomForestRegressor(n_estimators=9, random_state=1).fit(data, target)\n",
    "clf10 = RandomForestRegressor(n_estimators=10, random_state=1).fit(data, target)\n",
    "clf11 = RandomForestRegressor(n_estimators=11, random_state=1).fit(data, target)\n",
    "clf12 = RandomForestRegressor(n_estimators=12, random_state=1).fit(data, target)\n",
    "clf13 = RandomForestRegressor(n_estimators=13, random_state=1).fit(data, target)\n",
    "clf14 = RandomForestRegressor(n_estimators=14, random_state=1).fit(data, target)\n",
    "clf15 = RandomForestRegressor(n_estimators=15, random_state=1).fit(data, target)\n",
    "clf16 = RandomForestRegressor(n_estimators=16, random_state=1).fit(data, target)\n",
    "clf17 = RandomForestRegressor(n_estimators=17, random_state=1).fit(data, target)\n",
    "clf18 = RandomForestRegressor(n_estimators=18, random_state=1).fit(data, target)\n",
    "clf19 = RandomForestRegressor(n_estimators=19, random_state=1).fit(data, target)\n",
    "clf20 = RandomForestRegressor(n_estimators=20, random_state=1).fit(data, target)\n",
    "clf21 = RandomForestRegressor(n_estimators=21, random_state=1).fit(data, target)\n",
    "clf22 = RandomForestRegressor(n_estimators=22, random_state=1).fit(data, target)\n",
    "clf23 = RandomForestRegressor(n_estimators=23, random_state=1).fit(data, target)\n",
    "clf24 = RandomForestRegressor(n_estimators=24, random_state=1).fit(data, target)\n",
    "clf25 = RandomForestRegressor(n_estimators=25, random_state=1).fit(data, target)\n",
    "clf26 = RandomForestRegressor(n_estimators=26, random_state=1).fit(data, target)\n",
    "clf27 = RandomForestRegressor(n_estimators=27, random_state=1).fit(data, target)\n",
    "clf28 = RandomForestRegressor(n_estimators=28, random_state=1).fit(data, target)\n",
    "clf29 = RandomForestRegressor(n_estimators=29, random_state=1).fit(data, target)\n",
    "clf30 = RandomForestRegressor(n_estimators=30, random_state=1).fit(data, target)\n",
    "clf31 = RandomForestRegressor(n_estimators=31, random_state=1).fit(data, target)\n",
    "clf32 = RandomForestRegressor(n_estimators=32, random_state=1).fit(data, target)\n",
    "clf33 = RandomForestRegressor(n_estimators=33, random_state=1).fit(data, target)\n",
    "clf34 = RandomForestRegressor(n_estimators=34, random_state=1).fit(data, target)\n",
    "clf35 = RandomForestRegressor(n_estimators=35, random_state=1).fit(data, target)\n",
    "clf36 = RandomForestRegressor(n_estimators=36, random_state=1).fit(data, target)\n",
    "clf37 = RandomForestRegressor(n_estimators=37, random_state=1).fit(data, target)\n",
    "clf38 = RandomForestRegressor(n_estimators=38, random_state=1).fit(data, target)\n",
    "clf39 = RandomForestRegressor(n_estimators=39, random_state=1).fit(data, target)\n",
    "clf40 = RandomForestRegressor(n_estimators=40, random_state=1).fit(data, target)\n",
    "clf41 = RandomForestRegressor(n_estimators=41, random_state=1).fit(data, target)\n",
    "clf42 = RandomForestRegressor(n_estimators=42, random_state=1).fit(data, target)\n",
    "clf43 = RandomForestRegressor(n_estimators=43, random_state=1).fit(data, target)\n",
    "clf44 = RandomForestRegressor(n_estimators=44, random_state=1).fit(data, target)\n",
    "clf45 = RandomForestRegressor(n_estimators=45, random_state=1).fit(data, target)\n",
    "clf46 = RandomForestRegressor(n_estimators=46, random_state=1).fit(data, target)\n",
    "clf47 = RandomForestRegressor(n_estimators=47, random_state=1).fit(data, target)\n",
    "clf48 = RandomForestRegressor(n_estimators=48, random_state=1).fit(data, target)\n",
    "clf49 = RandomForestRegressor(n_estimators=49, random_state=1).fit(data, target)\n",
    "clf50 = RandomForestRegressor(n_estimators=50, random_state=1).fit(data, target)"
   ]
  },
  {
   "cell_type": "code",
   "execution_count": 50,
   "metadata": {
    "collapsed": false
   },
   "outputs": [],
   "source": [
    "predict1 = clf1.predict(data)\n",
    "predict2 = clf2.predict(data)\n",
    "predict3 = clf3.predict(data)\n",
    "predict4 = clf4.predict(data)\n",
    "predict5 = clf5.predict(data)\n",
    "predict6 = clf6.predict(data)\n",
    "predict7 = clf7.predict(data)\n",
    "predict8 = clf8.predict(data)\n",
    "predict9 = clf9.predict(data)\n",
    "predict10 = clf10.predict(data)\n",
    "predict11 = clf11.predict(data)\n",
    "predict12 = clf12.predict(data)\n",
    "predict13 = clf13.predict(data)\n",
    "predict14 = clf14.predict(data)\n",
    "predict15 = clf15.predict(data)\n",
    "predict16 = clf16.predict(data)\n",
    "predict17 = clf17.predict(data)\n",
    "predict18 = clf18.predict(data)\n",
    "predict19 = clf19.predict(data)\n",
    "predict20 = clf20.predict(data)\n",
    "predict21 = clf21.predict(data)\n",
    "predict22 = clf22.predict(data)\n",
    "predict23 = clf23.predict(data)\n",
    "predict24 = clf24.predict(data)\n",
    "predict25 = clf25.predict(data)\n",
    "predict26 = clf26.predict(data)\n",
    "predict27 = clf27.predict(data)\n",
    "predict28 = clf28.predict(data)\n",
    "predict29 = clf29.predict(data)\n",
    "predict30 = clf30.predict(data)\n",
    "predict31 = clf31.predict(data)\n",
    "predict32 = clf32.predict(data)\n",
    "predict33 = clf33.predict(data)\n",
    "predict34 = clf34.predict(data)\n",
    "predict35 = clf35.predict(data)\n",
    "predict36 = clf36.predict(data)\n",
    "predict37 = clf37.predict(data)\n",
    "predict38 = clf38.predict(data)\n",
    "predict39 = clf39.predict(data)\n",
    "predict40 = clf40.predict(data)\n",
    "predict41 = clf41.predict(data)\n",
    "predict42 = clf42.predict(data)\n",
    "predict43 = clf43.predict(data)\n",
    "predict44 = clf44.predict(data)\n",
    "predict45 = clf45.predict(data)\n",
    "predict46 = clf46.predict(data)\n",
    "predict47 = clf47.predict(data)\n",
    "predict48 = clf48.predict(data)\n",
    "predict49 = clf49.predict(data)\n",
    "predict50 = clf50.predict(data)"
   ]
  },
  {
   "cell_type": "code",
   "execution_count": null,
   "metadata": {
    "collapsed": false
   },
   "outputs": [],
   "source": [
    "len(predict1)"
   ]
  },
  {
   "cell_type": "code",
   "execution_count": 25,
   "metadata": {
    "collapsed": false
   },
   "outputs": [
    {
     "name": "stdout",
     "output_type": "stream",
     "text": [
      "1  0.1\n",
      "2  0.34\n",
      "3  0.4\n",
      "4  0.44\n",
      "5  0.46\n",
      "6  0.47\n",
      "7  0.48\n",
      "8  0.48\n",
      "9  0.49\n",
      "10  0.49\n",
      "11  0.49\n",
      "12  0.5\n",
      "13  0.5\n",
      "14  0.51\n",
      "15  0.51\n",
      "16  0.51\n",
      "17  0.51\n",
      "18  0.52\n",
      "19  0.52\n",
      "20  0.52\n",
      "21  0.52\n",
      "22  0.52\n",
      "23  0.52\n",
      "24  0.52\n",
      "25  0.52\n",
      "26  0.52\n",
      "27  0.52\n"
     ]
    }
   ],
   "source": [
    "print('1 ',round(np.mean(cross_val_score(clf1, data, target, cv=kf)), 2))\n",
    "print('2 ',round(np.mean(cross_val_score(clf2, data, target, cv=kf)), 2))\n",
    "print('3 ',round(np.mean(cross_val_score(clf3, data, target, cv=kf)), 2))\n",
    "print('4 ',round(np.mean(cross_val_score(clf4, data, target, cv=kf)), 2))\n",
    "print('5 ',round(np.mean(cross_val_score(clf5, data, target, cv=kf)), 2))\n",
    "print('6 ',round(np.mean(cross_val_score(clf6, data, target, cv=kf)), 2))\n",
    "print('7 ',round(np.mean(cross_val_score(clf7, data, target, cv=kf)), 2))\n",
    "print('8 ',round(np.mean(cross_val_score(clf8, data, target, cv=kf)), 2))\n",
    "print('9 ',round(np.mean(cross_val_score(clf9, data, target, cv=kf)), 2))\n",
    "print('10 ',round(np.mean(cross_val_score(clf10, data, target, cv=kf)), 2))\n",
    "print('11 ',round(np.mean(cross_val_score(clf11, data, target, cv=kf)), 2))\n",
    "print('12 ',round(np.mean(cross_val_score(clf12, data, target, cv=kf)), 2))\n",
    "print('13 ',round(np.mean(cross_val_score(clf13, data, target, cv=kf)), 2))\n",
    "print('14 ',round(np.mean(cross_val_score(clf14, data, target, cv=kf)), 2))\n",
    "print('15 ',round(np.mean(cross_val_score(clf15, data, target, cv=kf)), 2))\n",
    "print('16 ',round(np.mean(cross_val_score(clf16, data, target, cv=kf)), 2))\n",
    "print('17 ',round(np.mean(cross_val_score(clf17, data, target, cv=kf)), 2))\n",
    "print('18 ',round(np.mean(cross_val_score(clf18, data, target, cv=kf)), 2))\n",
    "print('19 ',round(np.mean(cross_val_score(clf19, data, target, cv=kf)), 2))\n",
    "print('20 ',round(np.mean(cross_val_score(clf20, data, target, cv=kf)), 2))\n",
    "print('21 ',round(np.mean(cross_val_score(clf21, data, target, cv=kf)), 2))\n",
    "print('22 ',round(np.mean(cross_val_score(clf22, data, target, cv=kf)), 2))\n",
    "print('23 ',round(np.mean(cross_val_score(clf23, data, target, cv=kf)), 2))\n",
    "print('24 ',round(np.mean(cross_val_score(clf24, data, target, cv=kf)), 2))\n",
    "print('25 ',round(np.mean(cross_val_score(clf25, data, target, cv=kf)), 2))\n",
    "print('26 ',round(np.mean(cross_val_score(clf26, data, target, cv=kf)), 2))\n",
    "print('27 ',round(np.mean(cross_val_score(clf27, data, target, cv=kf)), 2))\n",
    "#print('39 ',round(np.mean(cross_val_score(clf39, data, predict39, cv=kf, scoring='mean_squared_error')), 2))\n",
    "#print('40 ',round(np.mean(cross_val_score(clf40, data, predict40, cv=kf, scoring='mean_squared_error')), 2))\n",
    "#print('41 ',round(np.mean(cross_val_score(clf41, data, predict41, cv=kf, scoring='mean_squared_error')), 2))\n",
    "#print('42 ',round(np.mean(cross_val_score(clf42, data, predict42, cv=kf, scoring='mean_squared_error')), 2))\n",
    "#print('43 ',round(np.mean(cross_val_score(clf43, data, predict43, cv=kf, scoring='mean_squared_error')), 2))\n",
    "#print('44 ',round(np.mean(cross_val_score(clf44, data, predict44, cv=kf, scoring='mean_squared_error')), 2))\n",
    "#print('45 ',round(np.mean(cross_val_score(clf45, data, predict45, cv=kf, scoring='mean_squared_error')), 2))\n",
    "#print('46 ',round(np.mean(cross_val_score(clf46, data, predict46, cv=kf, scoring='mean_squared_error')), 2))\n",
    "#print('47 ',round(np.mean(cross_val_score(clf47, data, predict47, cv=kf, scoring='mean_squared_error')), 2))\n",
    "#print('48 ',round(np.mean(cross_val_score(clf48, data, predict48, cv=kf, scoring='mean_squared_error')), 2))\n",
    "#print('49 ',round(np.mean(cross_val_score(clf49, data, predict49, cv=kf, scoring='mean_squared_error')), 2))\n",
    "#print('50 ',round(np.mean(cross_val_score(clf50, data, predict50, cv=kf, scoring='mean_squared_error')), 2))"
   ]
  },
  {
   "cell_type": "code",
   "execution_count": 26,
   "metadata": {
    "collapsed": false
   },
   "outputs": [
    {
     "name": "stdout",
     "output_type": "stream",
     "text": [
      "28  0.53\n",
      "29  0.53\n",
      "30  0.53\n",
      "31  0.53\n",
      "32  0.53\n",
      "33  0.53\n",
      "34  0.53\n",
      "35  0.53\n",
      "36  0.53\n",
      "37  0.53\n",
      "38  0.53\n"
     ]
    }
   ],
   "source": [
    "print('28 ',round(np.mean(cross_val_score(clf28, data, target, cv=kf)), 2))\n",
    "print('29 ',round(np.mean(cross_val_score(clf29, data, target, cv=kf)), 2))\n",
    "print('30 ',round(np.mean(cross_val_score(clf30, data, target, cv=kf)), 2))\n",
    "print('31 ',round(np.mean(cross_val_score(clf31, data, target, cv=kf)), 2))\n",
    "print('32 ',round(np.mean(cross_val_score(clf32, data, target, cv=kf)), 2))\n",
    "print('33 ',round(np.mean(cross_val_score(clf33, data, target, cv=kf)), 2))\n",
    "print('34 ',round(np.mean(cross_val_score(clf34, data, target, cv=kf)), 2))\n",
    "print('35 ',round(np.mean(cross_val_score(clf35, data, target, cv=kf)), 2))\n",
    "print('36 ',round(np.mean(cross_val_score(clf36, data, target, cv=kf)), 2))\n",
    "print('37 ',round(np.mean(cross_val_score(clf37, data, target, cv=kf)), 2))\n",
    "print('38 ',round(np.mean(cross_val_score(clf38, data, target, cv=kf)), 2))"
   ]
  }
 ],
 "metadata": {
  "anaconda-cloud": {},
  "kernelspec": {
   "display_name": "Python 3",
   "language": "python",
   "name": "python3"
  },
  "language_info": {
   "codemirror_mode": {
    "name": "ipython",
    "version": 3
   },
   "file_extension": ".py",
   "mimetype": "text/x-python",
   "name": "python",
   "nbconvert_exporter": "python",
   "pygments_lexer": "ipython3",
   "version": "3.5.2"
  }
 },
 "nbformat": 4,
 "nbformat_minor": 0
}
